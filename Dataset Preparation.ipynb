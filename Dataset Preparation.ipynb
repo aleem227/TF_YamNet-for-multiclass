{
 "cells": [
  {
   "cell_type": "code",
   "execution_count": 2,
   "metadata": {},
   "outputs": [],
   "source": [
    "import pandas as pd\n",
    "import os\n",
    "from scipy.io import wavfile\n",
    "from tqdm import tqdm\n",
    "import random\n"
   ]
  },
  {
   "cell_type": "markdown",
   "metadata": {},
   "source": [
    "Prepare required data from AudioSet 500+ classes"
   ]
  },
  {
   "cell_type": "code",
   "execution_count": 3,
   "metadata": {},
   "outputs": [
    {
     "name": "stderr",
     "output_type": "stream",
     "text": [
      "Balancing Classes: 100%|██████████| 243/243 [00:00<00:00, 2076.96it/s]\n"
     ]
    },
    {
     "name": "stdout",
     "output_type": "stream",
     "text": [
      "Class distribution after balancing:\n",
      " positive_labels\n",
      "/m/03wvsk                                                   60\n",
      "/m/0d31p                                                    59\n",
      "/m/07qc9xj,/m/09x0r                                         28\n",
      "/m/01m2v,/m/0316dw                                          22\n",
      "/m/02zsn,/m/09x0r                                           19\n",
      "                                                            ..\n",
      "/m/01j3sz,/m/07r660_,/m/07sq110,/m/09x0r                     1\n",
      "/m/01j3sz,/m/07r660_,/m/09x0r                                1\n",
      "/m/01j3sz,/m/07r660_,/m/09x0r,/t/dd00125                     1\n",
      "/m/01j3sz,/m/07rgt08,/m/09x0r,/t/dd00125                     1\n",
      "/m/01280g,/m/04cvmfc,/m/05zppz,/m/09x0r,/m/0cdnk,/m/0jbk     1\n",
      "Name: count, Length: 243, dtype: int64\n"
     ]
    },
    {
     "name": "stderr",
     "output_type": "stream",
     "text": [
      "Processing WAV files:  13%|█▎        | 82/636 [00:00<00:00, 803.69it/s]"
     ]
    },
    {
     "name": "stdout",
     "output_type": "stream",
     "text": [
      "File not found: AudioSet/train_wav/xHqgVaGI21g.wav. Skipping...\n",
      "File not found: AudioSet/train_wav/nfdEAfLG7qQ.wav. Skipping...\n",
      "File not found: AudioSet/train_wav/EBwiCVS_gBs.wav. Skipping...\n",
      "File not found: AudioSet/train_wav/ZK0nR3j1pAY.wav. Skipping...\n",
      "File not found: AudioSet/train_wav/MoXvWqQ2v38.wav. Skipping...\n",
      "File not found: AudioSet/train_wav/8N5XxcJ7QOU.wav. Skipping...\n",
      "File not found: AudioSet/train_wav/58jMS3K5iMo.wav. Skipping...\n",
      "File not found: AudioSet/train_wav/VdaTqi6O4d0.wav. Skipping...\n",
      "File not found: AudioSet/train_wav/1jc3YPwYfC4.wav. Skipping...\n",
      "File not found: AudioSet/train_wav/fDlIO__7vv0.wav. Skipping...\n",
      "File not found: AudioSet/train_wav/qW5-hZGGx9U.wav. Skipping...\n",
      "File not found: AudioSet/train_wav/b24uboHG_GE.wav. Skipping...\n",
      "File not found: AudioSet/train_wav/EX0ZF-jNWIg.wav. Skipping...\n",
      "File not found: AudioSet/train_wav/lvtn_PxRQm4.wav. Skipping...\n",
      "File not found: AudioSet/train_wav/SQei2xJFNpk.wav. Skipping...\n",
      "File not found: AudioSet/train_wav/7bdrH_w1uqA.wav. Skipping...\n",
      "File not found: AudioSet/train_wav/9S1BddmLYMA.wav. Skipping...\n",
      "File not found: AudioSet/train_wav/H9lwtewdd0o.wav. Skipping...\n",
      "File not found: AudioSet/train_wav/huPKd-c_5OY.wav. Skipping...\n",
      "File not found: AudioSet/train_wav/ENQHBEQwnqQ.wav. Skipping...\n",
      "File not found: AudioSet/train_wav/8L4Qi6TjdiI.wav. Skipping...\n",
      "File not found: AudioSet/train_wav/FuViqr6l2pU.wav. Skipping...\n",
      "File not found: AudioSet/train_wav/Nx_dv66OPgc.wav. Skipping...\n",
      "File not found: AudioSet/train_wav/mUvMGoyCiyI.wav. Skipping...\n",
      "File not found: AudioSet/train_wav/9YYMQCcK8VY.wav. Skipping...\n",
      "File not found: AudioSet/train_wav/B6ginKdsPRE.wav. Skipping...\n",
      "File not found: AudioSet/train_wav/T-O6kf9P870.wav. Skipping...\n",
      "File not found: AudioSet/train_wav/_oB7jlzuphI.wav. Skipping...\n",
      "File not found: AudioSet/train_wav/o9GrSNyMeTU.wav. Skipping...\n",
      "File not found: AudioSet/train_wav/qtMYTzJ7R8E.wav. Skipping...\n",
      "File not found: AudioSet/train_wav/bLrdZUg1yKo.wav. Skipping...\n",
      "File not found: AudioSet/train_wav/B8dq3Zi_NDA.wav. Skipping...\n",
      "File not found: AudioSet/train_wav/1QrqkC1mt94.wav. Skipping...\n",
      "File not found: AudioSet/train_wav/rmfZ-r7wd6g.wav. Skipping...\n",
      "File not found: AudioSet/train_wav/PRZMVrt9jVA.wav. Skipping...\n",
      "File not found: AudioSet/train_wav/VOUm1PTYpB0.wav. Skipping...\n",
      "File not found: AudioSet/train_wav/80samHs909Y.wav. Skipping...\n",
      "File not found: AudioSet/train_wav/wxw0sHBvkR0.wav. Skipping...\n",
      "File not found: AudioSet/train_wav/qpVLafAN8Dk.wav. Skipping...\n"
     ]
    },
    {
     "name": "stderr",
     "output_type": "stream",
     "text": [
      "Processing WAV files:  46%|████▌     | 290/636 [00:00<00:00, 891.90it/s]"
     ]
    },
    {
     "name": "stdout",
     "output_type": "stream",
     "text": [
      "File not found: AudioSet/train_wav/KpGO2VTksIw.wav. Skipping...\n",
      "File not found: AudioSet/train_wav/8LCbldfHczs.wav. Skipping...\n",
      "File not found: AudioSet/train_wav/Vv5m1uKBxY8.wav. Skipping...\n",
      "File not found: AudioSet/train_wav/tqMZ7xMB5AU.wav. Skipping...\n",
      "File not found: AudioSet/train_wav/Vxr8_SaNWHI.wav. Skipping...\n",
      "File not found: AudioSet/train_wav/rMhqJfcNa3I.wav. Skipping...\n",
      "File not found: AudioSet/train_wav/8Mv69rlDCbU.wav. Skipping...\n",
      "File not found: AudioSet/train_wav/HPc4sPSx07k.wav. Skipping...\n",
      "File not found: AudioSet/train_wav/s1Z5w3OIaXQ.wav. Skipping...\n",
      "File not found: AudioSet/train_wav/iRbyI39B-kQ.wav. Skipping...\n",
      "File not found: AudioSet/train_wav/1p6h5X_LN_A.wav. Skipping...\n",
      "File not found: AudioSet/train_wav/X7UGw9kkFwQ.wav. Skipping...\n",
      "File not found: AudioSet/train_wav/3O7W7MH5HhY.wav. Skipping...\n",
      "File not found: AudioSet/train_wav/HZVKl0q1WI4.wav. Skipping...\n",
      "File not found: AudioSet/train_wav/61awfpVe49k.wav. Skipping...\n",
      "File not found: AudioSet/train_wav/RjPErwhjgjc.wav. Skipping...\n",
      "File not found: AudioSet/train_wav/Vb_Xvjbj_TI.wav. Skipping...\n",
      "File not found: AudioSet/train_wav/rHpsRp5eOQ8.wav. Skipping...\n",
      "File not found: AudioSet/train_wav/BkObUW1WDhE.wav. Skipping...\n",
      "File not found: AudioSet/train_wav/gymLsR9WSkk.wav. Skipping...\n",
      "File not found: AudioSet/train_wav/RH3Rq03hWa8.wav. Skipping...\n",
      "File not found: AudioSet/train_wav/I9Y1e1lAH_Y.wav. Skipping...\n",
      "File not found: AudioSet/train_wav/vUuUsqhU934.wav. Skipping...\n",
      "File not found: AudioSet/train_wav/WpAWFB-eOIs.wav. Skipping...\n"
     ]
    },
    {
     "name": "stderr",
     "output_type": "stream",
     "text": [
      "Processing WAV files:  73%|███████▎  | 466/636 [00:00<00:00, 805.44it/s]"
     ]
    },
    {
     "name": "stdout",
     "output_type": "stream",
     "text": [
      "File not found: AudioSet/train_wav/vmAsxFQbEg4.wav. Skipping...\n",
      "File not found: AudioSet/train_wav/HoVrv3_xhS8.wav. Skipping...\n",
      "File not found: AudioSet/train_wav/hII5lOqV22s.wav. Skipping...\n",
      "File not found: AudioSet/train_wav/xFwd1UDEHMQ.wav. Skipping...\n",
      "File not found: AudioSet/train_wav/LOdVDIv1snY.wav. Skipping...\n",
      "File not found: AudioSet/train_wav/zuW75_LUwCE.wav. Skipping...\n",
      "File not found: AudioSet/train_wav/H4QU67Ss9WY.wav. Skipping...\n",
      "File not found: AudioSet/train_wav/ddsEVCK5qZw.wav. Skipping...\n",
      "File not found: AudioSet/train_wav/-JfXNXGi-l8.wav. Skipping...\n",
      "File not found: AudioSet/train_wav/3SWi2UgEwY8.wav. Skipping...\n",
      "File not found: AudioSet/train_wav/9WAK0ufttVQ.wav. Skipping...\n",
      "File not found: AudioSet/train_wav/JGjjYIjvNwE.wav. Skipping...\n",
      "File not found: AudioSet/train_wav/SH4csdrlum0.wav. Skipping...\n",
      "File not found: AudioSet/train_wav/ZIT1maeaOPI.wav. Skipping...\n",
      "File not found: AudioSet/train_wav/uthV5xApuWQ.wav. Skipping...\n",
      "File not found: AudioSet/train_wav/ESw7bibTj4A.wav. Skipping...\n",
      "File not found: AudioSet/train_wav/ity1vO-OyDM.wav. Skipping...\n",
      "File not found: AudioSet/train_wav/d-V3FtnzYLo.wav. Skipping...\n",
      "File not found: AudioSet/train_wav/JQz76trKbNk.wav. Skipping...\n",
      "File not found: AudioSet/train_wav/DPzoYrz6Mi8.wav. Skipping...\n",
      "File not found: AudioSet/train_wav/LUQfjwASDq4.wav. Skipping...\n",
      "File not found: AudioSet/train_wav/cEsF3Oh1-gU.wav. Skipping...\n"
     ]
    },
    {
     "name": "stderr",
     "output_type": "stream",
     "text": [
      "Processing WAV files: 100%|██████████| 636/636 [00:00<00:00, 839.10it/s]"
     ]
    },
    {
     "name": "stdout",
     "output_type": "stream",
     "text": [
      "File not found: AudioSet/train_wav/CwOooX2g7nk.wav. Skipping...\n",
      "File not found: AudioSet/train_wav/JySp6TNxk0w.wav. Skipping...\n",
      "File not found: AudioSet/train_wav/kE4rIrBxe48.wav. Skipping...\n",
      "File not found: AudioSet/train_wav/rNhhTxnWY7c.wav. Skipping...\n",
      "File not found: AudioSet/train_wav/1LHxY6b9JAU.wav. Skipping...\n",
      "File not found: AudioSet/train_wav/A5orLtocLMA.wav. Skipping...\n",
      "File not found: AudioSet/train_wav/BTZiBsqBMWo.wav. Skipping...\n",
      "File not found: AudioSet/train_wav/Ma_myoeBN1c.wav. Skipping...\n",
      "File not found: AudioSet/train_wav/_vpfycBBX2I.wav. Skipping...\n",
      "File not found: AudioSet/train_wav/cR2zUNzOev8.wav. Skipping...\n",
      "File not found: AudioSet/train_wav/zoK3H42HCu8.wav. Skipping...\n"
     ]
    },
    {
     "name": "stderr",
     "output_type": "stream",
     "text": [
      "\n"
     ]
    }
   ],
   "source": [
    "\n",
    "# Define file paths\n",
    "train_csv_path = 'AudioSet/train.csv'\n",
    "train_missed_csv_path = 'AudioSet/train_missed.csv'\n",
    "class_label_indices_csv_path = 'AudioSet/class_labels_indices.csv'\n",
    "train_wav_folder_path = 'AudioSet/train_wav/'\n",
    "\n",
    "# Load train.csv\n",
    "train_df = pd.read_csv(train_csv_path)\n",
    "\n",
    "# Load train_missed.csv\n",
    "train_missed_df = pd.read_csv(train_missed_csv_path)\n",
    "\n",
    "# Concatenate train and train_missed\n",
    "full_train_df = pd.concat([train_df, train_missed_df])\n",
    "\n",
    "# Load class_label_indices.csv\n",
    "class_labels_df = pd.read_csv(class_label_indices_csv_path)\n",
    "\n",
    "# Filter class labels\n",
    "desired_classes = ['Silence', 'Male speech, man speaking', 'Female speech, woman speaking', \n",
    "                   'Vacuum cleaner', 'Computer keyboard', 'Clicking', 'Sneeze', \n",
    "                   'Cough', 'Laughter', 'Hair dryer']\n",
    "\n",
    "filtered_labels = class_labels_df[class_labels_df['display_name'].isin(desired_classes)]\n",
    "\n",
    "# Convert class labels to dictionary for quick lookup\n",
    "label_to_mid = dict(zip(filtered_labels['display_name'], filtered_labels['mid']))\n",
    "\n",
    "# Filter rows in train data based on desired labels\n",
    "filtered_train_df = full_train_df[full_train_df['positive_labels'].apply(lambda x: any(label in label_to_mid.values() for label in x.split(',')))]\n",
    "\n",
    "# Convert start and end seconds to float\n",
    "filtered_train_df.loc[:, 'start_seconds'] = filtered_train_df['start_seconds'].astype(float)\n",
    "filtered_train_df.loc[:, 'end_seconds'] = filtered_train_df['end_seconds'].astype(float)\n",
    "\n",
    "# Initialize list to store balanced data\n",
    "balanced_data = []\n",
    "\n",
    "# Define the maximum number of samples to keep from the majority class\n",
    "max_samples = 80\n",
    "\n",
    "# Iterate over filtered_train_df with progress tracking\n",
    "for class_name, group in tqdm(filtered_train_df.groupby('positive_labels'), desc=\"Balancing Classes\"):\n",
    "    # If the class is \"Speech\" and the number of samples is greater than max_samples, sample max_samples randomly\n",
    "    if '/m/09x0r' in class_name and len(group) > max_samples:\n",
    "        group = group.sample(n=max_samples, random_state=42)\n",
    "    \n",
    "    # Append balanced data to list\n",
    "    balanced_data.extend(group.to_dict(orient='records'))\n",
    "\n",
    "# Create DataFrame from balanced data\n",
    "balanced_df = pd.DataFrame(balanced_data)\n",
    "\n",
    "# Display the class distribution after balancing\n",
    "class_distribution_balanced = balanced_df['positive_labels'].value_counts()\n",
    "print(\"Class distribution after balancing:\\n\", class_distribution_balanced)\n",
    "\n",
    "# Initialize list to store data\n",
    "data = []\n",
    "\n",
    "# Iterate over filtered_train_df with progress tracking\n",
    "for index, row in tqdm(balanced_df.iterrows(), total=len(balanced_df), desc=\"Processing WAV files\"):\n",
    "    # Extract YTID, start_seconds, end_seconds, positive_labels\n",
    "    YTID, start_seconds, end_seconds, positive_labels = row['YTID'], row['start_seconds'], row['end_seconds'], row['positive_labels']\n",
    "    \n",
    "    # Load WAV file\n",
    "    wav_file_path = os.path.join(train_wav_folder_path, YTID + '.wav')\n",
    "    try:\n",
    "        sample_rate, audio_data = wavfile.read(wav_file_path)\n",
    "        \n",
    "        # Get first class name from positive_labels that belongs to desired classes\n",
    "        class_names = [class_labels_df[class_labels_df['mid'] == label]['display_name'].values[0] for label in positive_labels.split(',') if label in label_to_mid.values()]\n",
    "        \n",
    "        # Append data to list\n",
    "        data.append({\n",
    "            'wav_file': wav_file_path,\n",
    "            'class_name': class_names[0] if class_names else None  # If no class found, set to None\n",
    "        })\n",
    "    except FileNotFoundError:\n",
    "        print(f\"File not found: {wav_file_path}. Skipping...\")\n",
    "\n",
    "# Create DataFrame from data\n",
    "wav_dataset_df = pd.DataFrame(data)\n"
   ]
  },
  {
   "cell_type": "code",
   "execution_count": 4,
   "metadata": {},
   "outputs": [
    {
     "data": {
      "text/html": [
       "<div>\n",
       "<style scoped>\n",
       "    .dataframe tbody tr th:only-of-type {\n",
       "        vertical-align: middle;\n",
       "    }\n",
       "\n",
       "    .dataframe tbody tr th {\n",
       "        vertical-align: top;\n",
       "    }\n",
       "\n",
       "    .dataframe thead th {\n",
       "        text-align: right;\n",
       "    }\n",
       "</style>\n",
       "<table border=\"1\" class=\"dataframe\">\n",
       "  <thead>\n",
       "    <tr style=\"text-align: right;\">\n",
       "      <th></th>\n",
       "      <th>wav_file</th>\n",
       "      <th>class_name</th>\n",
       "    </tr>\n",
       "  </thead>\n",
       "  <tbody>\n",
       "    <tr>\n",
       "      <th>0</th>\n",
       "      <td>AudioSet/train_wav/deblSm0P08g.wav</td>\n",
       "      <td>Laughter</td>\n",
       "    </tr>\n",
       "    <tr>\n",
       "      <th>1</th>\n",
       "      <td>AudioSet/train_wav/drVo5VQfsDc.wav</td>\n",
       "      <td>Male speech, man speaking</td>\n",
       "    </tr>\n",
       "    <tr>\n",
       "      <th>2</th>\n",
       "      <td>AudioSet/train_wav/R7xk7Dyruq4.wav</td>\n",
       "      <td>Laughter</td>\n",
       "    </tr>\n",
       "    <tr>\n",
       "      <th>3</th>\n",
       "      <td>AudioSet/train_wav/TZ8vo-GTOa0.wav</td>\n",
       "      <td>Female speech, woman speaking</td>\n",
       "    </tr>\n",
       "    <tr>\n",
       "      <th>4</th>\n",
       "      <td>AudioSet/train_wav/V5HMIxuAtv8.wav</td>\n",
       "      <td>Male speech, man speaking</td>\n",
       "    </tr>\n",
       "    <tr>\n",
       "      <th>...</th>\n",
       "      <td>...</td>\n",
       "      <td>...</td>\n",
       "    </tr>\n",
       "    <tr>\n",
       "      <th>535</th>\n",
       "      <td>AudioSet/train_wav/uCUPXiawrJc.wav</td>\n",
       "      <td>Vacuum cleaner</td>\n",
       "    </tr>\n",
       "    <tr>\n",
       "      <th>536</th>\n",
       "      <td>AudioSet/train_wav/v5oorz0sCeE.wav</td>\n",
       "      <td>Vacuum cleaner</td>\n",
       "    </tr>\n",
       "    <tr>\n",
       "      <th>537</th>\n",
       "      <td>AudioSet/train_wav/v5x0zXCuJJc.wav</td>\n",
       "      <td>Vacuum cleaner</td>\n",
       "    </tr>\n",
       "    <tr>\n",
       "      <th>538</th>\n",
       "      <td>AudioSet/train_wav/w65m7AVSpYw.wav</td>\n",
       "      <td>Vacuum cleaner</td>\n",
       "    </tr>\n",
       "    <tr>\n",
       "      <th>539</th>\n",
       "      <td>AudioSet/train_wav/zoK7XE8BWlY.wav</td>\n",
       "      <td>Vacuum cleaner</td>\n",
       "    </tr>\n",
       "  </tbody>\n",
       "</table>\n",
       "<p>540 rows × 2 columns</p>\n",
       "</div>"
      ],
      "text/plain": [
       "                               wav_file                     class_name\n",
       "0    AudioSet/train_wav/deblSm0P08g.wav                       Laughter\n",
       "1    AudioSet/train_wav/drVo5VQfsDc.wav      Male speech, man speaking\n",
       "2    AudioSet/train_wav/R7xk7Dyruq4.wav                       Laughter\n",
       "3    AudioSet/train_wav/TZ8vo-GTOa0.wav  Female speech, woman speaking\n",
       "4    AudioSet/train_wav/V5HMIxuAtv8.wav      Male speech, man speaking\n",
       "..                                  ...                            ...\n",
       "535  AudioSet/train_wav/uCUPXiawrJc.wav                 Vacuum cleaner\n",
       "536  AudioSet/train_wav/v5oorz0sCeE.wav                 Vacuum cleaner\n",
       "537  AudioSet/train_wav/v5x0zXCuJJc.wav                 Vacuum cleaner\n",
       "538  AudioSet/train_wav/w65m7AVSpYw.wav                 Vacuum cleaner\n",
       "539  AudioSet/train_wav/zoK7XE8BWlY.wav                 Vacuum cleaner\n",
       "\n",
       "[540 rows x 2 columns]"
      ]
     },
     "execution_count": 4,
     "metadata": {},
     "output_type": "execute_result"
    }
   ],
   "source": [
    "wav_dataset_df"
   ]
  },
  {
   "cell_type": "code",
   "execution_count": 5,
   "metadata": {},
   "outputs": [
    {
     "data": {
      "image/png": "[encoded data removed]",
      "text/plain": [
       "<Figure size 1000x600 with 1 Axes>"
      ]
     },
     "metadata": {},
     "output_type": "display_data"
    }
   ],
   "source": [
    "import matplotlib.pyplot as plt\n",
    "\n",
    "# Group by class_name and count occurrences\n",
    "class_distribution = wav_dataset_df['class_name'].value_counts()\n",
    "\n",
    "# Plot the distribution\n",
    "plt.figure(figsize=(10, 6))\n",
    "ax = class_distribution.plot(kind='bar')\n",
    "plt.title('Class Distribution')\n",
    "plt.xlabel('Class Name')\n",
    "plt.ylabel('Count')\n",
    "plt.xticks(rotation=45, ha='right')\n",
    "plt.tight_layout()\n",
    "\n",
    "# Add count annotations to each bar\n",
    "for i, count in enumerate(class_distribution):\n",
    "    ax.text(i, count + 10, str(count), ha='center', va='bottom')\n",
    "\n",
    "plt.show()\n"
   ]
  },
  {
   "cell_type": "markdown",
   "metadata": {},
   "source": [
    "Save Preprocessed Data"
   ]
  },
  {
   "cell_type": "code",
   "execution_count": 6,
   "metadata": {},
   "outputs": [],
   "source": [
    "from pydub import AudioSegment\n",
    "import os\n",
    "\n",
    "# Define function for preprocessing audio\n",
    "def preprocess_audio(audio_path, output_path, target_sample_rate=16000):\n",
    "    # Load audio file\n",
    "    audio = AudioSegment.from_wav(audio_path)\n",
    "    \n",
    "    # Resample audio to target sample rate\n",
    "    audio = audio.set_frame_rate(target_sample_rate)\n",
    "    \n",
    "    # Export preprocessed audio to output path\n",
    "    audio.export(output_path, format=\"wav\")\n",
    "\n",
    "# Define input folder containing the original audio files\n",
    "input_folder = 'AudioSet/train_wav'\n",
    "\n",
    "# Define output folder for preprocessed audio files\n",
    "output_folder = 'AudioSet/preprocessed_train_wav'\n",
    "\n",
    "# Create output folder if it doesn't exist\n",
    "os.makedirs(output_folder, exist_ok=True)\n",
    "\n",
    "# Iterate over each row in the DataFrame\n",
    "for index, row in wav_dataset_df.iterrows():\n",
    "    # Get the audio file path and class name\n",
    "    audio_path = row['wav_file']\n",
    "    class_name = row['class_name']\n",
    "    \n",
    "    # Define output file path for preprocessed audio\n",
    "    output_file_path = os.path.join(output_folder, f\"{class_name}_{index}.wav\")\n",
    "    \n",
    "    # Preprocess the audio and save the preprocessed version\n",
    "    preprocess_audio(audio_path, output_file_path)\n"
   ]
  }
 ],
 "metadata": {
  "kernelspec": {
   "display_name": "virtualenv",
   "language": "python",
   "name": "python3"
  },
  "language_info": {
   "codemirror_mode": {
    "name": "ipython",
    "version": 3
   },
   "file_extension": ".py",
   "mimetype": "text/x-python",
   "name": "python",
   "nbconvert_exporter": "python",
   "pygments_lexer": "ipython3",
   "version": "3.9.6"
  }
 },
 "nbformat": 4,
 "nbformat_minor": 2
}
