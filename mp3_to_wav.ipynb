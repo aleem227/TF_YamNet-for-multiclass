{
 "cells": [
  {
   "cell_type": "markdown",
   "metadata": {},
   "source": [
    "Mp3 to Wav, and save in the same folder"
   ]
  },
  {
   "cell_type": "code",
   "execution_count": 1,
   "metadata": {},
   "outputs": [
    {
     "ename": "CouldntDecodeError",
     "evalue": "Decoding failed. ffmpeg returned error code: 69\n\nOutput from ffmpeg/avlib:\n\nffmpeg version 2024-05-06-git-96449cfeae-full_build-www.gyan.dev Copyright (c) 2000-2024 the FFmpeg developers\r\n  built with gcc 13.2.0 (Rev5, Built by MSYS2 project)\r\n  configuration: --enable-gpl --enable-version3 --enable-static --disable-w32threads --disable-autodetect --enable-fontconfig --enable-iconv --enable-gnutls --enable-libxml2 --enable-gmp --enable-bzlib --enable-lzma --enable-libsnappy --enable-zlib --enable-librist --enable-libsrt --enable-libssh --enable-libzmq --enable-avisynth --enable-libbluray --enable-libcaca --enable-sdl2 --enable-libaribb24 --enable-libaribcaption --enable-libdav1d --enable-libdavs2 --enable-libuavs3d --enable-libxevd --enable-libzvbi --enable-librav1e --enable-libsvtav1 --enable-libwebp --enable-libx264 --enable-libx265 --enable-libxavs2 --enable-libxeve --enable-libxvid --enable-libaom --enable-libjxl --enable-libopenjpeg --enable-libvpx --enable-mediafoundation --enable-libass --enable-frei0r --enable-libfreetype --enable-libfribidi --enable-libharfbuzz --enable-liblensfun --enable-libvidstab --enable-libvmaf --enable-libzimg --enable-amf --enable-cuda-llvm --enable-cuvid --enable-dxva2 --enable-d3d11va --enable-d3d12va --enable-ffnvcodec --enable-libvpl --enable-nvdec --enable-nvenc --enable-vaapi --enable-libshaderc --enable-vulkan --enable-libplacebo --enable-opencl --enable-libcdio --enable-libgme --enable-libmodplug --enable-libopenmpt --enable-libopencore-amrwb --enable-libmp3lame --enable-libshine --enable-libtheora --enable-libtwolame --enable-libvo-amrwbenc --enable-libcodec2 --enable-libilbc --enable-libgsm --enable-libopencore-amrnb --enable-libopus --enable-libspeex --enable-libvorbis --enable-ladspa --enable-libbs2b --enable-libflite --enable-libmysofa --enable-librubberband --enable-libsoxr --enable-chromaprint\r\n  libavutil      59. 17.100 / 59. 17.100\r\n  libavcodec     61.  5.103 / 61.  5.103\r\n  libavformat    61.  3.103 / 61.  3.103\r\n  libavdevice    61.  2.100 / 61.  2.100\r\n  libavfilter    10.  2.101 / 10.  2.101\r\n  libswscale      8.  2.100 /  8.  2.100\r\n  libswresample   5.  2.100 /  5.  2.100\r\n  libpostproc    58.  2.100 / 58.  2.100\r\n[mp3float @ 0000022b90e72700] Header missing\r\n    Last message repeated 18 times\r\n[mp3 @ 0000022b90e70f80] Could not find codec parameters for stream 0 (Audio: mp3 (mp3float), 0 channels, fltp): unspecified frame size\r\nConsider increasing the value for the 'analyzeduration' (0) and 'probesize' (5000000) options\r\nInput #0, mp3, from 'noise\\sample-1.webm':\r\n  Duration: N/A, start: 0.000000, bitrate: N/A\r\n  Stream #0:0: Audio: mp3 (mp3float), 0 channels, fltp\r\nStream mapping:\r\n  Stream #0:0 -> #0:0 (mp3 (mp3float) -> pcm_s32le (native))\r\nPress [q] to stop, [?] for help\r\n[mp3float @ 0000022b90e8f800] Header missing\r\n[aist#0:0/mp3 @ 0000022b90e72700] [dec:mp3float @ 0000022b90e8ef00] Error submitting packet to decoder: Invalid data found when processing input\r\n[mp3float @ 0000022b90e8f800] Header missing\r\n[aist#0:0/mp3 @ 0000022b90e72700] [dec:mp3float @ 0000022b90e8ef00] Error submitting packet to decoder: Invalid data found when processing input\r\n[mp3float @ 0000022b90e8f800] Header missing\r\n[aist#0:0/mp3 @ 0000022b90e72700] [dec:mp3float @ 0000022b90e8ef00] Error submitting packet to decoder: Invalid data found when processing input\r\n[mp3float @ 0000022b90e8f800] Header missing\r\n[aist#0:0/mp3 @ 0000022b90e72700] [dec:mp3float @ 0000022b90e8ef00] Error submitting packet to decoder: Invalid data found when processing input\r\n[mp3float @ 0000022b90e8f800] Header missing\r\n[aist#0:0/mp3 @ 0000022b90e72700] [dec:mp3float @ 0000022b90e8ef00] Error submitting packet to decoder: Invalid data found when processing input\r\n[mp3float @ 0000022b90e8f800] Header missing\r\n[aist#0:0/mp3 @ 0000022b90e72700] [dec:mp3float @ 0000022b90e8ef00] Error submitting packet to decoder: Invalid data found when processing input\r\n[mp3float @ 0000022b90e8f800] Header missing\r\n[aist#0:0/mp3 @ 0000022b90e72700] [dec:mp3float @ 0000022b90e8ef00] Error submitting packet to decoder: Invalid data found when processing input\r\n[mp3float @ 0000022b90e8f800] Header missing\r\n[aist#0:0/mp3 @ 0000022b90e72700] [dec:mp3float @ 0000022b90e8ef00] Error submitting packet to decoder: Invalid data found when processing input\r\n[mp3float @ 0000022b90e8f800] Header missing\r\n[aist#0:0/mp3 @ 0000022b90e72700] [dec:mp3float @ 0000022b90e8ef00] Error submitting packet to decoder: Invalid data found when processing input\r\n[mp3float @ 0000022b90e8f800] Header missing\r\n[aist#0:0/mp3 @ 0000022b90e72700] [dec:mp3float @ 0000022b90e8ef00] Error submitting packet to decoder: Invalid data found when processing input\r\n[mp3float @ 0000022b90e8f800] Header missing\r\n[aist#0:0/mp3 @ 0000022b90e72700] [dec:mp3float @ 0000022b90e8ef00] Error submitting packet to decoder: Invalid data found when processing input\r\n[mp3float @ 0000022b90e8f800] Header missing\r\n[aist#0:0/mp3 @ 0000022b90e72700] [dec:mp3float @ 0000022b90e8ef00] Error submitting packet to decoder: Invalid data found when processing input\r\n[mp3float @ 0000022b90e8f800] Header missing\r\n[aist#0:0/mp3 @ 0000022b90e72700] [dec:mp3float @ 0000022b90e8ef00] Error submitting packet to decoder: Invalid data found when processing input\r\n[mp3float @ 0000022b90e8f800] Header missing\r\n[aist#0:0/mp3 @ 0000022b90e72700] [dec:mp3float @ 0000022b90e8ef00] Error submitting packet to decoder: Invalid data found when processing input\r\n[mp3float @ 0000022b90e8f800] Header missing\r\n[aist#0:0/mp3 @ 0000022b90e72700] [dec:mp3float @ 0000022b90e8ef00] Error submitting packet to decoder: Invalid data found when processing input\r\n[mp3float @ 0000022b90e8f800] Header missing\r\n[aist#0:0/mp3 @ 0000022b90e72700] [dec:mp3float @ 0000022b90e8ef00] Error submitting packet to decoder: Invalid data found when processing input\r\n[mp3float @ 0000022b90e8f800] Header missing\r\n[aist#0:0/mp3 @ 0000022b90e72700] [dec:mp3float @ 0000022b90e8ef00] Error submitting packet to decoder: Invalid data found when processing input\r\n[mp3float @ 0000022b90e8f800] Header missing\r\n[aist#0:0/mp3 @ 0000022b90e72700] [dec:mp3float @ 0000022b90e8ef00] Error submitting packet to decoder: Invalid data found when processing input\r\n[mp3float @ 0000022b90e8f800] Header missing\r\n[aist#0:0/mp3 @ 0000022b90e72700] [dec:mp3float @ 0000022b90e8ef00] Error submitting packet to decoder: Invalid data found when processing input\r\n[aist#0:0/mp3 @ 0000022b90e72700] [dec:mp3float @ 0000022b90e8ef00] Decode error rate 1 exceeds maximum 0.666667\r\n[aist#0:0/mp3 @ 0000022b90e72700] [dec:mp3float @ 0000022b90e8ef00] Task finished with error code: -1145393733 (Error number -1145393733 occurred)\r\n[aist#0:0/mp3 @ 0000022b90e72700] [dec:mp3float @ 0000022b90e8ef00] Terminating thread with return code -1145393733 (Error number -1145393733 occurred)\r\n[graph_-1_in_0:0 @ 0000022b90e92000] Neither number of channels nor channel layout specified\r\nError initializing filters!\r\n[af#0:0 @ 0000022b90eb7fc0] Task finished with error code: -22 (Invalid argument)\r\n[af#0:0 @ 0000022b90eb7fc0] Terminating thread with return code -22 (Invalid argument)\r\n[aost#0:0/pcm_s32le @ 0000022b90eb7340] Could not open encoder before EOF\r\n[aost#0:0/pcm_s32le @ 0000022b90eb7340] Task finished with error code: -22 (Invalid argument)\r\n[aost#0:0/pcm_s32le @ 0000022b90eb7340] Terminating thread with return code -22 (Invalid argument)\r\n[out#0/wav @ 0000022b90e728c0] Nothing was written into output file, because at least one of its streams received no packets.\r\nsize=       0KiB time=N/A bitrate=N/A speed=N/A    \r\nConversion failed!\r\n",
     "output_type": "error",
     "traceback": [
      "\u001b[1;31m---------------------------------------------------------------------------\u001b[0m",
      "\u001b[1;31mCouldntDecodeError\u001b[0m                        Traceback (most recent call last)",
      "Cell \u001b[1;32mIn[1], line 32\u001b[0m\n\u001b[0;32m     29\u001b[0m             chunk\u001b[38;5;241m.\u001b[39mexport(os\u001b[38;5;241m.\u001b[39mpath\u001b[38;5;241m.\u001b[39mjoin(output_folder, \u001b[38;5;124mf\u001b[39m\u001b[38;5;124m\"\u001b[39m\u001b[38;5;124mnoise_\u001b[39m\u001b[38;5;132;01m{\u001b[39;00mi\u001b[38;5;132;01m:\u001b[39;00m\u001b[38;5;124m02d\u001b[39m\u001b[38;5;132;01m}\u001b[39;00m\u001b[38;5;124m.wav\u001b[39m\u001b[38;5;124m\"\u001b[39m), \u001b[38;5;28mformat\u001b[39m\u001b[38;5;241m=\u001b[39m\u001b[38;5;124m\"\u001b[39m\u001b[38;5;124mwav\u001b[39m\u001b[38;5;124m\"\u001b[39m)\n\u001b[0;32m     31\u001b[0m \u001b[38;5;28;01mif\u001b[39;00m \u001b[38;5;18m__name__\u001b[39m \u001b[38;5;241m==\u001b[39m \u001b[38;5;124m\"\u001b[39m\u001b[38;5;124m__main__\u001b[39m\u001b[38;5;124m\"\u001b[39m:\n\u001b[1;32m---> 32\u001b[0m     \u001b[43mmain\u001b[49m\u001b[43m(\u001b[49m\u001b[43m)\u001b[49m\n",
      "Cell \u001b[1;32mIn[1], line 26\u001b[0m, in \u001b[0;36mmain\u001b[1;34m()\u001b[0m\n\u001b[0;32m     23\u001b[0m mp3_files \u001b[38;5;241m=\u001b[39m [f \u001b[38;5;28;01mfor\u001b[39;00m f \u001b[38;5;129;01min\u001b[39;00m os\u001b[38;5;241m.\u001b[39mlistdir(input_folder) \u001b[38;5;28;01mif\u001b[39;00m f\u001b[38;5;241m.\u001b[39mendswith(\u001b[38;5;124m'\u001b[39m\u001b[38;5;124m.webm\u001b[39m\u001b[38;5;124m'\u001b[39m)]\n\u001b[0;32m     25\u001b[0m \u001b[38;5;28;01mfor\u001b[39;00m mp3_file \u001b[38;5;129;01min\u001b[39;00m mp3_files:\n\u001b[1;32m---> 26\u001b[0m     wav_file \u001b[38;5;241m=\u001b[39m \u001b[43mmp3_to_wav\u001b[49m\u001b[43m(\u001b[49m\u001b[43mos\u001b[49m\u001b[38;5;241;43m.\u001b[39;49m\u001b[43mpath\u001b[49m\u001b[38;5;241;43m.\u001b[39;49m\u001b[43mjoin\u001b[49m\u001b[43m(\u001b[49m\u001b[43minput_folder\u001b[49m\u001b[43m,\u001b[49m\u001b[43m \u001b[49m\u001b[43mmp3_file\u001b[49m\u001b[43m)\u001b[49m\u001b[43m)\u001b[49m\n\u001b[0;32m     27\u001b[0m     chunks \u001b[38;5;241m=\u001b[39m split_wav(wav_file)\n\u001b[0;32m     28\u001b[0m     \u001b[38;5;28;01mfor\u001b[39;00m i, chunk \u001b[38;5;129;01min\u001b[39;00m \u001b[38;5;28menumerate\u001b[39m(chunks, \u001b[38;5;241m1\u001b[39m):\n",
      "Cell \u001b[1;32mIn[1], line 6\u001b[0m, in \u001b[0;36mmp3_to_wav\u001b[1;34m(mp3_file)\u001b[0m\n\u001b[0;32m      4\u001b[0m \u001b[38;5;28;01mdef\u001b[39;00m \u001b[38;5;21mmp3_to_wav\u001b[39m(mp3_file):\n\u001b[0;32m      5\u001b[0m     wav_file \u001b[38;5;241m=\u001b[39m os\u001b[38;5;241m.\u001b[39mpath\u001b[38;5;241m.\u001b[39msplitext(mp3_file)[\u001b[38;5;241m0\u001b[39m] \u001b[38;5;241m+\u001b[39m \u001b[38;5;124m'\u001b[39m\u001b[38;5;124m.wav\u001b[39m\u001b[38;5;124m'\u001b[39m\n\u001b[1;32m----> 6\u001b[0m     sound \u001b[38;5;241m=\u001b[39m \u001b[43mAudioSegment\u001b[49m\u001b[38;5;241;43m.\u001b[39;49m\u001b[43mfrom_mp3\u001b[49m\u001b[43m(\u001b[49m\u001b[43mmp3_file\u001b[49m\u001b[43m)\u001b[49m\n\u001b[0;32m      7\u001b[0m     sound\u001b[38;5;241m.\u001b[39mexport(wav_file, \u001b[38;5;28mformat\u001b[39m\u001b[38;5;241m=\u001b[39m\u001b[38;5;124m\"\u001b[39m\u001b[38;5;124mwav\u001b[39m\u001b[38;5;124m\"\u001b[39m)\n\u001b[0;32m      8\u001b[0m     os\u001b[38;5;241m.\u001b[39mremove(mp3_file)  \u001b[38;5;66;03m# Delete the original mp3 file\u001b[39;00m\n",
      "File \u001b[1;32mc:\\Program Files\\Python39\\lib\\site-packages\\pydub\\audio_segment.py:796\u001b[0m, in \u001b[0;36mAudioSegment.from_mp3\u001b[1;34m(cls, file, parameters)\u001b[0m\n\u001b[0;32m    794\u001b[0m \u001b[38;5;129m@classmethod\u001b[39m\n\u001b[0;32m    795\u001b[0m \u001b[38;5;28;01mdef\u001b[39;00m \u001b[38;5;21mfrom_mp3\u001b[39m(\u001b[38;5;28mcls\u001b[39m, file, parameters\u001b[38;5;241m=\u001b[39m\u001b[38;5;28;01mNone\u001b[39;00m):\n\u001b[1;32m--> 796\u001b[0m     \u001b[38;5;28;01mreturn\u001b[39;00m \u001b[38;5;28;43mcls\u001b[39;49m\u001b[38;5;241;43m.\u001b[39;49m\u001b[43mfrom_file\u001b[49m\u001b[43m(\u001b[49m\u001b[43mfile\u001b[49m\u001b[43m,\u001b[49m\u001b[43m \u001b[49m\u001b[38;5;124;43m'\u001b[39;49m\u001b[38;5;124;43mmp3\u001b[39;49m\u001b[38;5;124;43m'\u001b[39;49m\u001b[43m,\u001b[49m\u001b[43m \u001b[49m\u001b[43mparameters\u001b[49m\u001b[38;5;241;43m=\u001b[39;49m\u001b[43mparameters\u001b[49m\u001b[43m)\u001b[49m\n",
      "File \u001b[1;32mc:\\Program Files\\Python39\\lib\\site-packages\\pydub\\audio_segment.py:773\u001b[0m, in \u001b[0;36mAudioSegment.from_file\u001b[1;34m(cls, file, format, codec, parameters, start_second, duration, **kwargs)\u001b[0m\n\u001b[0;32m    771\u001b[0m     \u001b[38;5;28;01mif\u001b[39;00m close_file:\n\u001b[0;32m    772\u001b[0m         file\u001b[38;5;241m.\u001b[39mclose()\n\u001b[1;32m--> 773\u001b[0m     \u001b[38;5;28;01mraise\u001b[39;00m CouldntDecodeError(\n\u001b[0;32m    774\u001b[0m         \u001b[38;5;124m\"\u001b[39m\u001b[38;5;124mDecoding failed. ffmpeg returned error code: \u001b[39m\u001b[38;5;132;01m{0}\u001b[39;00m\u001b[38;5;130;01m\\n\u001b[39;00m\u001b[38;5;130;01m\\n\u001b[39;00m\u001b[38;5;124mOutput from ffmpeg/avlib:\u001b[39m\u001b[38;5;130;01m\\n\u001b[39;00m\u001b[38;5;130;01m\\n\u001b[39;00m\u001b[38;5;132;01m{1}\u001b[39;00m\u001b[38;5;124m\"\u001b[39m\u001b[38;5;241m.\u001b[39mformat(\n\u001b[0;32m    775\u001b[0m             p\u001b[38;5;241m.\u001b[39mreturncode, p_err\u001b[38;5;241m.\u001b[39mdecode(errors\u001b[38;5;241m=\u001b[39m\u001b[38;5;124m'\u001b[39m\u001b[38;5;124mignore\u001b[39m\u001b[38;5;124m'\u001b[39m) ))\n\u001b[0;32m    777\u001b[0m p_out \u001b[38;5;241m=\u001b[39m \u001b[38;5;28mbytearray\u001b[39m(p_out)\n\u001b[0;32m    778\u001b[0m fix_wav_headers(p_out)\n",
      "\u001b[1;31mCouldntDecodeError\u001b[0m: Decoding failed. ffmpeg returned error code: 69\n\nOutput from ffmpeg/avlib:\n\nffmpeg version 2024-05-06-git-96449cfeae-full_build-www.gyan.dev Copyright (c) 2000-2024 the FFmpeg developers\r\n  built with gcc 13.2.0 (Rev5, Built by MSYS2 project)\r\n  configuration: --enable-gpl --enable-version3 --enable-static --disable-w32threads --disable-autodetect --enable-fontconfig --enable-iconv --enable-gnutls --enable-libxml2 --enable-gmp --enable-bzlib --enable-lzma --enable-libsnappy --enable-zlib --enable-librist --enable-libsrt --enable-libssh --enable-libzmq --enable-avisynth --enable-libbluray --enable-libcaca --enable-sdl2 --enable-libaribb24 --enable-libaribcaption --enable-libdav1d --enable-libdavs2 --enable-libuavs3d --enable-libxevd --enable-libzvbi --enable-librav1e --enable-libsvtav1 --enable-libwebp --enable-libx264 --enable-libx265 --enable-libxavs2 --enable-libxeve --enable-libxvid --enable-libaom --enable-libjxl --enable-libopenjpeg --enable-libvpx --enable-mediafoundation --enable-libass --enable-frei0r --enable-libfreetype --enable-libfribidi --enable-libharfbuzz --enable-liblensfun --enable-libvidstab --enable-libvmaf --enable-libzimg --enable-amf --enable-cuda-llvm --enable-cuvid --enable-dxva2 --enable-d3d11va --enable-d3d12va --enable-ffnvcodec --enable-libvpl --enable-nvdec --enable-nvenc --enable-vaapi --enable-libshaderc --enable-vulkan --enable-libplacebo --enable-opencl --enable-libcdio --enable-libgme --enable-libmodplug --enable-libopenmpt --enable-libopencore-amrwb --enable-libmp3lame --enable-libshine --enable-libtheora --enable-libtwolame --enable-libvo-amrwbenc --enable-libcodec2 --enable-libilbc --enable-libgsm --enable-libopencore-amrnb --enable-libopus --enable-libspeex --enable-libvorbis --enable-ladspa --enable-libbs2b --enable-libflite --enable-libmysofa --enable-librubberband --enable-libsoxr --enable-chromaprint\r\n  libavutil      59. 17.100 / 59. 17.100\r\n  libavcodec     61.  5.103 / 61.  5.103\r\n  libavformat    61.  3.103 / 61.  3.103\r\n  libavdevice    61.  2.100 / 61.  2.100\r\n  libavfilter    10.  2.101 / 10.  2.101\r\n  libswscale      8.  2.100 /  8.  2.100\r\n  libswresample   5.  2.100 /  5.  2.100\r\n  libpostproc    58.  2.100 / 58.  2.100\r\n[mp3float @ 0000022b90e72700] Header missing\r\n    Last message repeated 18 times\r\n[mp3 @ 0000022b90e70f80] Could not find codec parameters for stream 0 (Audio: mp3 (mp3float), 0 channels, fltp): unspecified frame size\r\nConsider increasing the value for the 'analyzeduration' (0) and 'probesize' (5000000) options\r\nInput #0, mp3, from 'noise\\sample-1.webm':\r\n  Duration: N/A, start: 0.000000, bitrate: N/A\r\n  Stream #0:0: Audio: mp3 (mp3float), 0 channels, fltp\r\nStream mapping:\r\n  Stream #0:0 -> #0:0 (mp3 (mp3float) -> pcm_s32le (native))\r\nPress [q] to stop, [?] for help\r\n[mp3float @ 0000022b90e8f800] Header missing\r\n[aist#0:0/mp3 @ 0000022b90e72700] [dec:mp3float @ 0000022b90e8ef00] Error submitting packet to decoder: Invalid data found when processing input\r\n[mp3float @ 0000022b90e8f800] Header missing\r\n[aist#0:0/mp3 @ 0000022b90e72700] [dec:mp3float @ 0000022b90e8ef00] Error submitting packet to decoder: Invalid data found when processing input\r\n[mp3float @ 0000022b90e8f800] Header missing\r\n[aist#0:0/mp3 @ 0000022b90e72700] [dec:mp3float @ 0000022b90e8ef00] Error submitting packet to decoder: Invalid data found when processing input\r\n[mp3float @ 0000022b90e8f800] Header missing\r\n[aist#0:0/mp3 @ 0000022b90e72700] [dec:mp3float @ 0000022b90e8ef00] Error submitting packet to decoder: Invalid data found when processing input\r\n[mp3float @ 0000022b90e8f800] Header missing\r\n[aist#0:0/mp3 @ 0000022b90e72700] [dec:mp3float @ 0000022b90e8ef00] Error submitting packet to decoder: Invalid data found when processing input\r\n[mp3float @ 0000022b90e8f800] Header missing\r\n[aist#0:0/mp3 @ 0000022b90e72700] [dec:mp3float @ 0000022b90e8ef00] Error submitting packet to decoder: Invalid data found when processing input\r\n[mp3float @ 0000022b90e8f800] Header missing\r\n[aist#0:0/mp3 @ 0000022b90e72700] [dec:mp3float @ 0000022b90e8ef00] Error submitting packet to decoder: Invalid data found when processing input\r\n[mp3float @ 0000022b90e8f800] Header missing\r\n[aist#0:0/mp3 @ 0000022b90e72700] [dec:mp3float @ 0000022b90e8ef00] Error submitting packet to decoder: Invalid data found when processing input\r\n[mp3float @ 0000022b90e8f800] Header missing\r\n[aist#0:0/mp3 @ 0000022b90e72700] [dec:mp3float @ 0000022b90e8ef00] Error submitting packet to decoder: Invalid data found when processing input\r\n[mp3float @ 0000022b90e8f800] Header missing\r\n[aist#0:0/mp3 @ 0000022b90e72700] [dec:mp3float @ 0000022b90e8ef00] Error submitting packet to decoder: Invalid data found when processing input\r\n[mp3float @ 0000022b90e8f800] Header missing\r\n[aist#0:0/mp3 @ 0000022b90e72700] [dec:mp3float @ 0000022b90e8ef00] Error submitting packet to decoder: Invalid data found when processing input\r\n[mp3float @ 0000022b90e8f800] Header missing\r\n[aist#0:0/mp3 @ 0000022b90e72700] [dec:mp3float @ 0000022b90e8ef00] Error submitting packet to decoder: Invalid data found when processing input\r\n[mp3float @ 0000022b90e8f800] Header missing\r\n[aist#0:0/mp3 @ 0000022b90e72700] [dec:mp3float @ 0000022b90e8ef00] Error submitting packet to decoder: Invalid data found when processing input\r\n[mp3float @ 0000022b90e8f800] Header missing\r\n[aist#0:0/mp3 @ 0000022b90e72700] [dec:mp3float @ 0000022b90e8ef00] Error submitting packet to decoder: Invalid data found when processing input\r\n[mp3float @ 0000022b90e8f800] Header missing\r\n[aist#0:0/mp3 @ 0000022b90e72700] [dec:mp3float @ 0000022b90e8ef00] Error submitting packet to decoder: Invalid data found when processing input\r\n[mp3float @ 0000022b90e8f800] Header missing\r\n[aist#0:0/mp3 @ 0000022b90e72700] [dec:mp3float @ 0000022b90e8ef00] Error submitting packet to decoder: Invalid data found when processing input\r\n[mp3float @ 0000022b90e8f800] Header missing\r\n[aist#0:0/mp3 @ 0000022b90e72700] [dec:mp3float @ 0000022b90e8ef00] Error submitting packet to decoder: Invalid data found when processing input\r\n[mp3float @ 0000022b90e8f800] Header missing\r\n[aist#0:0/mp3 @ 0000022b90e72700] [dec:mp3float @ 0000022b90e8ef00] Error submitting packet to decoder: Invalid data found when processing input\r\n[mp3float @ 0000022b90e8f800] Header missing\r\n[aist#0:0/mp3 @ 0000022b90e72700] [dec:mp3float @ 0000022b90e8ef00] Error submitting packet to decoder: Invalid data found when processing input\r\n[aist#0:0/mp3 @ 0000022b90e72700] [dec:mp3float @ 0000022b90e8ef00] Decode error rate 1 exceeds maximum 0.666667\r\n[aist#0:0/mp3 @ 0000022b90e72700] [dec:mp3float @ 0000022b90e8ef00] Task finished with error code: -1145393733 (Error number -1145393733 occurred)\r\n[aist#0:0/mp3 @ 0000022b90e72700] [dec:mp3float @ 0000022b90e8ef00] Terminating thread with return code -1145393733 (Error number -1145393733 occurred)\r\n[graph_-1_in_0:0 @ 0000022b90e92000] Neither number of channels nor channel layout specified\r\nError initializing filters!\r\n[af#0:0 @ 0000022b90eb7fc0] Task finished with error code: -22 (Invalid argument)\r\n[af#0:0 @ 0000022b90eb7fc0] Terminating thread with return code -22 (Invalid argument)\r\n[aost#0:0/pcm_s32le @ 0000022b90eb7340] Could not open encoder before EOF\r\n[aost#0:0/pcm_s32le @ 0000022b90eb7340] Task finished with error code: -22 (Invalid argument)\r\n[aost#0:0/pcm_s32le @ 0000022b90eb7340] Terminating thread with return code -22 (Invalid argument)\r\n[out#0/wav @ 0000022b90e728c0] Nothing was written into output file, because at least one of its streams received no packets.\r\nsize=       0KiB time=N/A bitrate=N/A speed=N/A    \r\nConversion failed!\r\n"
     ]
    }
   ],
   "source": [
    "import os\n",
    "from pydub import AudioSegment\n",
    "\n",
    "def mp3_to_wav(mp3_file):\n",
    "    wav_file = os.path.splitext(mp3_file)[0] + '.wav'\n",
    "    sound = AudioSegment.from_mp3(mp3_file)\n",
    "    sound.export(wav_file, format=\"wav\")\n",
    "    os.remove(mp3_file)  # Delete the original mp3 file\n",
    "    return wav_file\n",
    "\n",
    "def split_wav(wav_file, chunk_length=10000):  # 10 seconds = 10,000 milliseconds\n",
    "    sound = AudioSegment.from_wav(wav_file)\n",
    "    chunks = [sound[i:i+chunk_length] for i in range(0, len(sound), chunk_length)]\n",
    "    return chunks\n",
    "\n",
    "def main():\n",
    "    input_folder = \"noise\"\n",
    "    output_folder = \"output\"\n",
    "\n",
    "    if not os.path.exists(output_folder):\n",
    "        os.makedirs(output_folder)\n",
    "\n",
    "    mp3_files = [f for f in os.listdir(input_folder) if f.endswith('.webm')]\n",
    "    \n",
    "    for mp3_file in mp3_files:\n",
    "        wav_file = mp3_to_wav(os.path.join(input_folder, mp3_file))\n",
    "        chunks = split_wav(wav_file)\n",
    "        for i, chunk in enumerate(chunks, 1):\n",
    "            chunk.export(os.path.join(output_folder, f\"noise_{i:02d}.wav\"), format=\"wav\")\n",
    "\n",
    "if __name__ == \"__main__\":\n",
    "    main()\n"
   ]
  },
  {
   "cell_type": "markdown",
   "metadata": {},
   "source": [
    "Wav to 10 sec chunks"
   ]
  },
  {
   "cell_type": "code",
   "execution_count": 3,
   "metadata": {},
   "outputs": [],
   "source": [
    "import os\n",
    "from pydub import AudioSegment\n",
    "\n",
    "def split_wav_into_chunks(input_folder, output_folder, chunk_length_ms=10000):\n",
    "    for filename in os.listdir(input_folder):\n",
    "        if filename.endswith(\".wav\"):\n",
    "            input_file = os.path.join(input_folder, filename)\n",
    "            sound = AudioSegment.from_wav(input_file)\n",
    "            num_chunks = len(sound) // chunk_length_ms\n",
    "            \n",
    "            for i in range(num_chunks):\n",
    "                start = i * chunk_length_ms\n",
    "                end = (i + 1) * chunk_length_ms\n",
    "                chunk = sound[start:end]\n",
    "                output_filename = f\"{os.path.splitext(filename)[0]}_{i+1:02d}.wav\"\n",
    "                output_path = os.path.join(output_folder, output_filename)\n",
    "                chunk.export(output_path, format=\"wav\")\n",
    "\n",
    "# Usage example\n",
    "input_folder = \"Book page flip\"\n",
    "output_folder = \"augmented\"\n",
    "split_wav_into_chunks(input_folder, output_folder)\n"
   ]
  },
  {
   "cell_type": "code",
   "execution_count": 3,
   "metadata": {},
   "outputs": [
    {
     "name": "stdout",
     "output_type": "stream",
     "text": [
      "Conversion and splitting completed. Check the 'output' directory for output files.\n"
     ]
    }
   ],
   "source": [
    "import os\n",
    "from pydub import AudioSegment\n",
    "\n",
    "# Function to convert webm to wav\n",
    "def convert_webm_to_wav(webm_file, wav_file):\n",
    "    audio = AudioSegment.from_file(webm_file, format=\"webm\")\n",
    "    audio.export(wav_file, format=\"wav\")\n",
    "\n",
    "# Function to split wav file into 1-second segments\n",
    "def split_wav_into_segments(wav_file, output_dir):\n",
    "    audio = AudioSegment.from_wav(wav_file)\n",
    "    duration_in_seconds = len(audio) // 1000\n",
    "    \n",
    "    for i in range(duration_in_seconds):\n",
    "        segment = audio[i*1000:(i+1)*1000]\n",
    "        segment.export(os.path.join(output_dir, f\"{os.path.basename(wav_file).split('.')[0]}_segment_{i+1}.wav\"), format=\"wav\")\n",
    "\n",
    "# Paths for input and output files\n",
    "input_folder = 'noise'  # replace with your input folder path containing webm files\n",
    "output_folder = 'output'  # directory to save 1-second segments\n",
    "\n",
    "# Ensure output directory exists\n",
    "os.makedirs(output_folder, exist_ok=True)\n",
    "\n",
    "# Process each webm file in the input folder\n",
    "for filename in os.listdir(input_folder):\n",
    "    if filename.endswith('.webm'):\n",
    "        webm_file = os.path.join(input_folder, filename)\n",
    "        wav_file = os.path.join(output_folder, os.path.splitext(filename)[0] + '.wav')\n",
    "        \n",
    "        # Convert webm to wav\n",
    "        convert_webm_to_wav(webm_file, wav_file)\n",
    "        \n",
    "        # Create a directory for segments of each wav file\n",
    "        segment_output_dir = os.path.join(output_folder, os.path.splitext(filename)[0])\n",
    "        os.makedirs(segment_output_dir, exist_ok=True)\n",
    "        \n",
    "        # Split wav into 1-second segments\n",
    "        split_wav_into_segments(wav_file, segment_output_dir)\n",
    "\n",
    "print(f\"Conversion and splitting completed. Check the '{output_folder}' directory for output files.\")\n"
   ]
  }
 ],
 "metadata": {
  "kernelspec": {
   "display_name": "Python 3",
   "language": "python",
   "name": "python3"
  },
  "language_info": {
   "codemirror_mode": {
    "name": "ipython",
    "version": 3
   },
   "file_extension": ".py",
   "mimetype": "text/x-python",
   "name": "python",
   "nbconvert_exporter": "python",
   "pygments_lexer": "ipython3",
   "version": "3.9.6"
  }
 },
 "nbformat": 4,
 "nbformat_minor": 2
}
