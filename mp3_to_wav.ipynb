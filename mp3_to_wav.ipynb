{
 "cells": [
  {
   "cell_type": "markdown",
   "metadata": {},
   "source": [
    "Mp3 to Wav, and save in the same folder"
   ]
  },
  {
   "cell_type": "code",
   "execution_count": 1,
   "metadata": {},
   "outputs": [],
   "source": [
    "import os\n",
    "from pydub import AudioSegment\n",
    "\n",
    "def mp3_to_wav(mp3_file):\n",
    "    wav_file = os.path.splitext(mp3_file)[0] + '.wav'\n",
    "    sound = AudioSegment.from_mp3(mp3_file)\n",
    "    sound.export(wav_file, format=\"wav\")\n",
    "    os.remove(mp3_file)  # Delete the original mp3 file\n",
    "    return wav_file\n",
    "\n",
    "def split_wav(wav_file, chunk_length=10000):  # 10 seconds = 10,000 milliseconds\n",
    "    sound = AudioSegment.from_wav(wav_file)\n",
    "    chunks = [sound[i:i+chunk_length] for i in range(0, len(sound), chunk_length)]\n",
    "    return chunks\n",
    "\n",
    "def main():\n",
    "    input_folder = \"Book page flip\"\n",
    "    output_folder = \"output\"\n",
    "\n",
    "    if not os.path.exists(output_folder):\n",
    "        os.makedirs(output_folder)\n",
    "\n",
    "    mp3_files = [f for f in os.listdir(input_folder) if f.endswith('.mp3')]\n",
    "    \n",
    "    for mp3_file in mp3_files:\n",
    "        wav_file = mp3_to_wav(os.path.join(input_folder, mp3_file))\n",
    "        chunks = split_wav(wav_file)\n",
    "        for i, chunk in enumerate(chunks, 1):\n",
    "            chunk.export(os.path.join(output_folder, f\"book_page_flip_{i:02d}.wav\"), format=\"wav\")\n",
    "\n",
    "if __name__ == \"__main__\":\n",
    "    main()\n"
   ]
  },
  {
   "cell_type": "markdown",
   "metadata": {},
   "source": [
    "Wav to 10 sec chunks"
   ]
  },
  {
   "cell_type": "code",
   "execution_count": 3,
   "metadata": {},
   "outputs": [],
   "source": [
    "import os\n",
    "from pydub import AudioSegment\n",
    "\n",
    "def split_wav_into_chunks(input_folder, output_folder, chunk_length_ms=10000):\n",
    "    for filename in os.listdir(input_folder):\n",
    "        if filename.endswith(\".wav\"):\n",
    "            input_file = os.path.join(input_folder, filename)\n",
    "            sound = AudioSegment.from_wav(input_file)\n",
    "            num_chunks = len(sound) // chunk_length_ms\n",
    "            \n",
    "            for i in range(num_chunks):\n",
    "                start = i * chunk_length_ms\n",
    "                end = (i + 1) * chunk_length_ms\n",
    "                chunk = sound[start:end]\n",
    "                output_filename = f\"{os.path.splitext(filename)[0]}_{i+1:02d}.wav\"\n",
    "                output_path = os.path.join(output_folder, output_filename)\n",
    "                chunk.export(output_path, format=\"wav\")\n",
    "\n",
    "# Usage example\n",
    "input_folder = \"Book page flip\"\n",
    "output_folder = \"augmented\"\n",
    "split_wav_into_chunks(input_folder, output_folder)\n"
   ]
  }
 ],
 "metadata": {
  "kernelspec": {
   "display_name": "Python 3",
   "language": "python",
   "name": "python3"
  },
  "language_info": {
   "codemirror_mode": {
    "name": "ipython",
    "version": 3
   },
   "file_extension": ".py",
   "mimetype": "text/x-python",
   "name": "python",
   "nbconvert_exporter": "python",
   "pygments_lexer": "ipython3",
   "version": "3.9.6"
  }
 },
 "nbformat": 4,
 "nbformat_minor": 2
}
