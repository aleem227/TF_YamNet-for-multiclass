{
 "cells": [
  {
   "cell_type": "code",
   "execution_count": 9,
   "metadata": {},
   "outputs": [
    {
     "name": "stdout",
     "output_type": "stream",
     "text": [
      "INFO:tensorflow:Assets written to: testing_model_yamnet\\assets\n",
      "Model saved in SavedModel format at: testing_model_yamnet\n"
     ]
    }
   ],
   "source": [
    "import tensorflow as tf\n",
    "from tensorflow.keras.models import load_model\n",
    "\n",
    "# Load the model from the H5 file\n",
    "h5_model_path = 'YamNet_Transfer_Learning.h5'\n",
    "model = load_model(h5_model_path)\n",
    "\n",
    "# Define the path to save the TensorFlow SavedModel\n",
    "saved_model_path = 'testing_model_yamnet'\n",
    "\n",
    "# Save the model in SavedModel format\n",
    "tf.saved_model.save(model, saved_model_path)\n",
    "\n",
    "print(f\"Model saved in SavedModel format at: {saved_model_path}\")\n"
   ]
  },
  {
   "cell_type": "code",
   "execution_count": 10,
   "metadata": {},
   "outputs": [
    {
     "name": "stdout",
     "output_type": "stream",
     "text": [
      "WARNING:tensorflow:Compiled the loaded model, but the compiled metrics have yet to be built. `model.compile_metrics` will be empty until you train or evaluate the model.\n",
      "INFO:tensorflow:Assets written to: ./new_fused_model\\assets\n",
      "New model saved in SavedModel format at: ./new_fused_model\n"
     ]
    }
   ],
   "source": [
    "import tensorflow as tf\n",
    "import tensorflow_hub as hub\n",
    "\n",
    "# Define the custom ReduceMeanLayer\n",
    "class ReduceMeanLayer(tf.keras.layers.Layer):\n",
    "    def __init__(self, axis=0, **kwargs):\n",
    "        super(ReduceMeanLayer, self).__init__(**kwargs)\n",
    "        self.axis = axis\n",
    "\n",
    "    def call(self, inputs):\n",
    "        return tf.reduce_mean(inputs, axis=self.axis)\n",
    "\n",
    "# Path to the SavedModel\n",
    "saved_model_path = './testing_model_yamnet'\n",
    "\n",
    "# Load the SavedModel using the TensorFlow SavedModel API\n",
    "loaded_model = tf.saved_model.load(saved_model_path)\n",
    "\n",
    "# Get the input and output signatures from the loaded model\n",
    "infer = loaded_model.signatures[\"serving_default\"]\n",
    "\n",
    "# Use the correct input key\n",
    "input_key = 'input_1'\n",
    "input_tensor = infer.structured_input_signature[1][input_key]\n",
    "\n",
    "# Create a new input layer that matches the expected input shape and type\n",
    "input_segment = tf.keras.layers.Input(shape=input_tensor.shape[1:], dtype=input_tensor.dtype, name='audio')\n",
    "\n",
    "# Use the existing model to get the embeddings\n",
    "yamnet_embedding_extractor = hub.KerasLayer(saved_model_path, trainable=False)\n",
    "embeddings_output = yamnet_embedding_extractor(input_segment)\n",
    "\n",
    "# Apply the custom ReduceMeanLayer\n",
    "serving_outputs = ReduceMeanLayer(axis=0, name='classifier')(embeddings_output)\n",
    "\n",
    "# Create the new model\n",
    "serving_model = tf.keras.Model(inputs=input_segment, outputs=serving_outputs)\n",
    "\n",
    "# Save the new model in SavedModel format\n",
    "new_saved_model_path = './new_fused_model'\n",
    "serving_model.save(new_saved_model_path, include_optimizer=False)\n",
    "\n",
    "print(f\"New model saved in SavedModel format at: {new_saved_model_path}\")\n"
   ]
  },
  {
   "cell_type": "code",
   "execution_count": null,
   "metadata": {},
   "outputs": [],
   "source": []
  }
 ],
 "metadata": {
  "kernelspec": {
   "display_name": "Python 3",
   "language": "python",
   "name": "python3"
  },
  "language_info": {
   "codemirror_mode": {
    "name": "ipython",
    "version": 3
   },
   "file_extension": ".py",
   "mimetype": "text/x-python",
   "name": "python",
   "nbconvert_exporter": "python",
   "pygments_lexer": "ipython3",
   "version": "3.9.6"
  }
 },
 "nbformat": 4,
 "nbformat_minor": 2
}
