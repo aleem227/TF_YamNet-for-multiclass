{
 "cells": [
  {
   "cell_type": "markdown",
   "metadata": {},
   "source": [
    "Import Necessary Libraries"
   ]
  },
  {
   "cell_type": "code",
   "execution_count": 15,
   "metadata": {},
   "outputs": [],
   "source": [
    "import os\n",
    "\n",
    "from IPython import display\n",
    "import matplotlib.pyplot as plt\n",
    "import numpy as np\n",
    "import pandas as pd\n",
    "\n",
    "import tensorflow as tf\n",
    "import tensorflow_hub as hub\n",
    "import tensorflow_io as tfio"
   ]
  },
  {
   "cell_type": "markdown",
   "metadata": {},
   "source": [
    "Import Yamnet Model"
   ]
  },
  {
   "cell_type": "code",
   "execution_count": 16,
   "metadata": {},
   "outputs": [],
   "source": [
    "yamnet_model_handle = 'https://tfhub.dev/google/yamnet/1'\n",
    "yamnet_model = hub.load(yamnet_model_handle)"
   ]
  },
  {
   "cell_type": "markdown",
   "metadata": {},
   "source": [
    "Audio Preprocessing"
   ]
  },
  {
   "cell_type": "code",
   "execution_count": 17,
   "metadata": {},
   "outputs": [],
   "source": [
    "# Utility functions for loading audio files and making sure the sample rate is correct.\n",
    "\n",
    "@tf.function\n",
    "def load_wav_16k_mono(filename):\n",
    "    \"\"\" Load a WAV file, convert it to a float tensor, resample to 16 kHz single-channel audio. \"\"\"\n",
    "    file_contents = tf.io.read_file(filename)\n",
    "    wav, sample_rate = tf.audio.decode_wav(\n",
    "          file_contents,\n",
    "          desired_channels=1)\n",
    "    wav = tf.squeeze(wav, axis=-1)\n",
    "    sample_rate = tf.cast(sample_rate, dtype=tf.int64)\n",
    "    wav = tfio.audio.resample(wav, rate_in=sample_rate, rate_out=16000)\n",
    "    return wav"
   ]
  },
  {
   "cell_type": "markdown",
   "metadata": {},
   "source": [
    "Data Loading (Custom Samples)"
   ]
  },
  {
   "cell_type": "code",
   "execution_count": 18,
   "metadata": {},
   "outputs": [],
   "source": [
    "# import pandas as pd\n",
    "# import os\n",
    "\n",
    "# # Define input folder containing the preprocessed audio files\n",
    "# input_folder = r'AudioSet\\new_created'\n",
    "\n",
    "# # Initialize lists to store data\n",
    "# file_paths = []\n",
    "# class_names = []\n",
    "\n",
    "# # Define the maximum number of files per category\n",
    "# max_files_per_category = 700\n",
    "\n",
    "# # Iterate over each file in the input folder\n",
    "# for file_name in os.listdir(input_folder):\n",
    "#     folder_path = os.path.join(input_folder, file_name)\n",
    "    \n",
    "#     # Check if the item is a directory\n",
    "#     if os.path.isdir(folder_path):\n",
    "#         class_name = file_name  # Use folder name as class name\n",
    "#         file_count = 0  # Counter for the number of files per category\n",
    "        \n",
    "#         # Iterate over files in the directory\n",
    "#         for file in os.listdir(folder_path):\n",
    "#             if file.endswith(\".wav\"):\n",
    "#                 file_path = os.path.join(file_name, file)  # Changed to only file_name\n",
    "                \n",
    "#                 # Append file path and class name to lists\n",
    "#                 file_paths.append(file_path)\n",
    "#                 class_names.append(class_name)\n",
    "                \n",
    "#                 file_count += 1\n",
    "#                 if file_count >= max_files_per_category:\n",
    "#                     break  # Break the loop if maximum files per category reached\n",
    "\n",
    "# # Create DataFrame from the collected data\n",
    "# preprocessed_df = pd.DataFrame({\n",
    "#     'filename': file_paths,\n",
    "#     'category': class_names\n",
    "# })\n",
    "\n",
    "# # Display DataFrame\n",
    "# pd_data = preprocessed_df\n",
    "\n",
    "# pd_data\n",
    "\n"
   ]
  },
  {
   "cell_type": "markdown",
   "metadata": {},
   "source": [
    "Data Loading (Complete)"
   ]
  },
  {
   "cell_type": "code",
   "execution_count": 19,
   "metadata": {},
   "outputs": [
    {
     "data": {
      "text/html": [
       "<div>\n",
       "<style scoped>\n",
       "    .dataframe tbody tr th:only-of-type {\n",
       "        vertical-align: middle;\n",
       "    }\n",
       "\n",
       "    .dataframe tbody tr th {\n",
       "        vertical-align: top;\n",
       "    }\n",
       "\n",
       "    .dataframe thead th {\n",
       "        text-align: right;\n",
       "    }\n",
       "</style>\n",
       "<table border=\"1\" class=\"dataframe\">\n",
       "  <thead>\n",
       "    <tr style=\"text-align: right;\">\n",
       "      <th></th>\n",
       "      <th>filename</th>\n",
       "      <th>category</th>\n",
       "    </tr>\n",
       "  </thead>\n",
       "  <tbody>\n",
       "    <tr>\n",
       "      <th>0</th>\n",
       "      <td>book_page_flip\\a5-book-flipping-02-55290_01_Ad...</td>\n",
       "      <td>book_page_flip</td>\n",
       "    </tr>\n",
       "    <tr>\n",
       "      <th>1</th>\n",
       "      <td>book_page_flip\\a5-book-flipping-02-55290_01_Ad...</td>\n",
       "      <td>book_page_flip</td>\n",
       "    </tr>\n",
       "    <tr>\n",
       "      <th>2</th>\n",
       "      <td>book_page_flip\\a5-book-flipping-02-55290_01_Ga...</td>\n",
       "      <td>book_page_flip</td>\n",
       "    </tr>\n",
       "    <tr>\n",
       "      <th>3</th>\n",
       "      <td>book_page_flip\\a5-book-flipping-02-55290_01_Pi...</td>\n",
       "      <td>book_page_flip</td>\n",
       "    </tr>\n",
       "    <tr>\n",
       "      <th>4</th>\n",
       "      <td>book_page_flip\\a5-book-flipping-02-55290_01_Pi...</td>\n",
       "      <td>book_page_flip</td>\n",
       "    </tr>\n",
       "    <tr>\n",
       "      <th>...</th>\n",
       "      <td>...</td>\n",
       "      <td>...</td>\n",
       "    </tr>\n",
       "    <tr>\n",
       "      <th>25012</th>\n",
       "      <td>Vacuum_cleaner\\vacuum_cleaner_90_aug.wav</td>\n",
       "      <td>Vacuum_cleaner</td>\n",
       "    </tr>\n",
       "    <tr>\n",
       "      <th>25013</th>\n",
       "      <td>Vacuum_cleaner\\vacuum_cleaner_90_aug_comb.wav</td>\n",
       "      <td>Vacuum_cleaner</td>\n",
       "    </tr>\n",
       "    <tr>\n",
       "      <th>25014</th>\n",
       "      <td>Vacuum_cleaner\\vacuum_cleaner_91.wav</td>\n",
       "      <td>Vacuum_cleaner</td>\n",
       "    </tr>\n",
       "    <tr>\n",
       "      <th>25015</th>\n",
       "      <td>Vacuum_cleaner\\vacuum_cleaner_91_aug.wav</td>\n",
       "      <td>Vacuum_cleaner</td>\n",
       "    </tr>\n",
       "    <tr>\n",
       "      <th>25016</th>\n",
       "      <td>Vacuum_cleaner\\vacuum_cleaner_91_aug_comb.wav</td>\n",
       "      <td>Vacuum_cleaner</td>\n",
       "    </tr>\n",
       "  </tbody>\n",
       "</table>\n",
       "<p>25017 rows × 2 columns</p>\n",
       "</div>"
      ],
      "text/plain": [
       "                                                filename        category\n",
       "0      book_page_flip\\a5-book-flipping-02-55290_01_Ad...  book_page_flip\n",
       "1      book_page_flip\\a5-book-flipping-02-55290_01_Ad...  book_page_flip\n",
       "2      book_page_flip\\a5-book-flipping-02-55290_01_Ga...  book_page_flip\n",
       "3      book_page_flip\\a5-book-flipping-02-55290_01_Pi...  book_page_flip\n",
       "4      book_page_flip\\a5-book-flipping-02-55290_01_Pi...  book_page_flip\n",
       "...                                                  ...             ...\n",
       "25012           Vacuum_cleaner\\vacuum_cleaner_90_aug.wav  Vacuum_cleaner\n",
       "25013      Vacuum_cleaner\\vacuum_cleaner_90_aug_comb.wav  Vacuum_cleaner\n",
       "25014               Vacuum_cleaner\\vacuum_cleaner_91.wav  Vacuum_cleaner\n",
       "25015           Vacuum_cleaner\\vacuum_cleaner_91_aug.wav  Vacuum_cleaner\n",
       "25016      Vacuum_cleaner\\vacuum_cleaner_91_aug_comb.wav  Vacuum_cleaner\n",
       "\n",
       "[25017 rows x 2 columns]"
      ]
     },
     "execution_count": 19,
     "metadata": {},
     "output_type": "execute_result"
    }
   ],
   "source": [
    "import pandas as pd\n",
    "import os\n",
    "\n",
    "# Define input folder containing the preprocessed audio files\n",
    "input_folder = r'AudioSet\\new_created'\n",
    "\n",
    "# Initialize lists to store data\n",
    "file_paths = []\n",
    "class_names = []\n",
    "\n",
    "# Iterate over each file in the input folder\n",
    "for file_name in os.listdir(input_folder):\n",
    "    folder_path = os.path.join(input_folder, file_name)\n",
    "    \n",
    "    # Check if the item is a directory\n",
    "    if os.path.isdir(folder_path):\n",
    "        class_name = file_name  # Use folder name as class name\n",
    "        \n",
    "        # Iterate over files in the directory\n",
    "        for file in os.listdir(folder_path):\n",
    "            if file.endswith(\".wav\"):\n",
    "                file_path = os.path.join(file_name, file)  # Changed to only file_name\n",
    "                \n",
    "                # Append file path and class name to lists\n",
    "                file_paths.append(file_path)\n",
    "                class_names.append(class_name)\n",
    "\n",
    "# Create DataFrame from the collected data\n",
    "preprocessed_df = pd.DataFrame({\n",
    "    'filename': file_paths,\n",
    "    'category': class_names\n",
    "})\n",
    "\n",
    "# Display DataFrame\n",
    "pd_data = preprocessed_df\n",
    "\n",
    "pd_data\n"
   ]
  },
  {
   "cell_type": "code",
   "execution_count": 20,
   "metadata": {},
   "outputs": [],
   "source": [
    "base_data_path = 'AudioSet\\new_created'\n"
   ]
  },
  {
   "cell_type": "markdown",
   "metadata": {},
   "source": [
    "Filter the data"
   ]
  },
  {
   "cell_type": "code",
   "execution_count": 21,
   "metadata": {},
   "outputs": [
    {
     "data": {
      "text/html": [
       "<div>\n",
       "<style scoped>\n",
       "    .dataframe tbody tr th:only-of-type {\n",
       "        vertical-align: middle;\n",
       "    }\n",
       "\n",
       "    .dataframe tbody tr th {\n",
       "        vertical-align: top;\n",
       "    }\n",
       "\n",
       "    .dataframe thead th {\n",
       "        text-align: right;\n",
       "    }\n",
       "</style>\n",
       "<table border=\"1\" class=\"dataframe\">\n",
       "  <thead>\n",
       "    <tr style=\"text-align: right;\">\n",
       "      <th></th>\n",
       "      <th>filename</th>\n",
       "      <th>category</th>\n",
       "      <th>target</th>\n",
       "    </tr>\n",
       "  </thead>\n",
       "  <tbody>\n",
       "    <tr>\n",
       "      <th>0</th>\n",
       "      <td>AudioSet\\new_created\\book_page_flip\\a5-book-fl...</td>\n",
       "      <td>book_page_flip</td>\n",
       "      <td>10</td>\n",
       "    </tr>\n",
       "    <tr>\n",
       "      <th>1</th>\n",
       "      <td>AudioSet\\new_created\\book_page_flip\\a5-book-fl...</td>\n",
       "      <td>book_page_flip</td>\n",
       "      <td>10</td>\n",
       "    </tr>\n",
       "    <tr>\n",
       "      <th>2</th>\n",
       "      <td>AudioSet\\new_created\\book_page_flip\\a5-book-fl...</td>\n",
       "      <td>book_page_flip</td>\n",
       "      <td>10</td>\n",
       "    </tr>\n",
       "    <tr>\n",
       "      <th>3</th>\n",
       "      <td>AudioSet\\new_created\\book_page_flip\\a5-book-fl...</td>\n",
       "      <td>book_page_flip</td>\n",
       "      <td>10</td>\n",
       "    </tr>\n",
       "    <tr>\n",
       "      <th>4</th>\n",
       "      <td>AudioSet\\new_created\\book_page_flip\\a5-book-fl...</td>\n",
       "      <td>book_page_flip</td>\n",
       "      <td>10</td>\n",
       "    </tr>\n",
       "    <tr>\n",
       "      <th>5</th>\n",
       "      <td>AudioSet\\new_created\\book_page_flip\\a5-book-fl...</td>\n",
       "      <td>book_page_flip</td>\n",
       "      <td>10</td>\n",
       "    </tr>\n",
       "    <tr>\n",
       "      <th>6</th>\n",
       "      <td>AudioSet\\new_created\\book_page_flip\\a5-book-fl...</td>\n",
       "      <td>book_page_flip</td>\n",
       "      <td>10</td>\n",
       "    </tr>\n",
       "    <tr>\n",
       "      <th>7</th>\n",
       "      <td>AudioSet\\new_created\\book_page_flip\\a5-book-fl...</td>\n",
       "      <td>book_page_flip</td>\n",
       "      <td>10</td>\n",
       "    </tr>\n",
       "    <tr>\n",
       "      <th>8</th>\n",
       "      <td>AudioSet\\new_created\\book_page_flip\\a5-book-fl...</td>\n",
       "      <td>book_page_flip</td>\n",
       "      <td>10</td>\n",
       "    </tr>\n",
       "    <tr>\n",
       "      <th>9</th>\n",
       "      <td>AudioSet\\new_created\\book_page_flip\\a5-book-fl...</td>\n",
       "      <td>book_page_flip</td>\n",
       "      <td>10</td>\n",
       "    </tr>\n",
       "  </tbody>\n",
       "</table>\n",
       "</div>"
      ],
      "text/plain": [
       "                                            filename        category  target\n",
       "0  AudioSet\\new_created\\book_page_flip\\a5-book-fl...  book_page_flip      10\n",
       "1  AudioSet\\new_created\\book_page_flip\\a5-book-fl...  book_page_flip      10\n",
       "2  AudioSet\\new_created\\book_page_flip\\a5-book-fl...  book_page_flip      10\n",
       "3  AudioSet\\new_created\\book_page_flip\\a5-book-fl...  book_page_flip      10\n",
       "4  AudioSet\\new_created\\book_page_flip\\a5-book-fl...  book_page_flip      10\n",
       "5  AudioSet\\new_created\\book_page_flip\\a5-book-fl...  book_page_flip      10\n",
       "6  AudioSet\\new_created\\book_page_flip\\a5-book-fl...  book_page_flip      10\n",
       "7  AudioSet\\new_created\\book_page_flip\\a5-book-fl...  book_page_flip      10\n",
       "8  AudioSet\\new_created\\book_page_flip\\a5-book-fl...  book_page_flip      10\n",
       "9  AudioSet\\new_created\\book_page_flip\\a5-book-fl...  book_page_flip      10"
      ]
     },
     "execution_count": 21,
     "metadata": {},
     "output_type": "execute_result"
    }
   ],
   "source": [
    "# Your specified classes\n",
    "my_classes = ['Silence', 'Male speech, man speaking', 'Female speech, woman speaking', \n",
    "              'Vacuum cleaner', 'Computer keyboard', 'Clicking', 'Sneeze', \n",
    "              'Cough', 'Laughter', 'Hair dryer', 'book_page_flip']\n",
    "\n",
    "# Mapping classes to IDs\n",
    "map_class_to_id = {'Silence': 0, 'Male speech, man speaking': 1, 'Female speech, woman speaking': 2, \n",
    "                   'Vacuum cleaner': 3, 'Computer keyboard': 4, 'Clicking': 5, 'Sneeze': 6, \n",
    "                   'Cough': 7, 'Laughter': 8, 'Hair dryer': 9, 'book_page_flip': 10}\n",
    "\n",
    "# Filter the data based on specified classes\n",
    "filtered_pd = pd_data[pd_data.category.isin(my_classes)]\n",
    "\n",
    "# Assign IDs to the classes\n",
    "class_id = filtered_pd['category'].apply(lambda name: map_class_to_id[name])\n",
    "filtered_pd = filtered_pd.assign(target=class_id)\n",
    "\n",
    "filtered_pd['filename'] = filtered_pd['filename'].apply(lambda row: os.path.join(\"AudioSet\\\\new_created\", row))\n",
    "\n",
    "# Display the first 10 rows\n",
    "filtered_pd.head(10)\n"
   ]
  },
  {
   "cell_type": "markdown",
   "metadata": {},
   "source": [
    "Load the audio files and retrieve embeddings"
   ]
  },
  {
   "cell_type": "code",
   "execution_count": 22,
   "metadata": {},
   "outputs": [
    {
     "data": {
      "text/plain": [
       "(TensorSpec(shape=(), dtype=tf.string, name=None),\n",
       " TensorSpec(shape=(), dtype=tf.int64, name=None))"
      ]
     },
     "execution_count": 22,
     "metadata": {},
     "output_type": "execute_result"
    }
   ],
   "source": [
    "filenames = filtered_pd['filename']\n",
    "targets = filtered_pd['target']\n",
    "\n",
    "main_ds = tf.data.Dataset.from_tensor_slices((filenames, targets))\n",
    "main_ds.element_spec"
   ]
  },
  {
   "cell_type": "code",
   "execution_count": 23,
   "metadata": {},
   "outputs": [
    {
     "name": "stdout",
     "output_type": "stream",
     "text": [
      "WARNING:tensorflow:Using a while_loop for converting IO>AudioResample\n"
     ]
    },
    {
     "name": "stderr",
     "output_type": "stream",
     "text": [
      "WARNING:tensorflow:Using a while_loop for converting IO>AudioResample\n"
     ]
    },
    {
     "data": {
      "text/plain": [
       "(TensorSpec(shape=<unknown>, dtype=tf.float32, name=None),\n",
       " TensorSpec(shape=(), dtype=tf.int64, name=None))"
      ]
     },
     "execution_count": 23,
     "metadata": {},
     "output_type": "execute_result"
    }
   ],
   "source": [
    "def load_wav_for_map(filename, label):\n",
    "  return load_wav_16k_mono(filename), label\n",
    "\n",
    "main_ds = main_ds.map(load_wav_for_map)\n",
    "main_ds.element_spec"
   ]
  },
  {
   "cell_type": "code",
   "execution_count": 24,
   "metadata": {},
   "outputs": [
    {
     "data": {
      "text/plain": [
       "(TensorSpec(shape=(1024,), dtype=tf.float32, name=None),\n",
       " TensorSpec(shape=(), dtype=tf.int64, name=None))"
      ]
     },
     "execution_count": 24,
     "metadata": {},
     "output_type": "execute_result"
    }
   ],
   "source": [
    "# applies the embedding extraction model to a wav data\n",
    "def extract_embedding(wav_data, label):\n",
    "  ''' run YAMNet to extract embedding from the wav data '''\n",
    "  scores, embeddings, spectrogram = yamnet_model(wav_data)\n",
    "  num_embeddings = tf.shape(embeddings)[0]\n",
    "  return (embeddings,\n",
    "            tf.repeat(label, num_embeddings))\n",
    "            \n",
    "\n",
    "# extract embedding\n",
    "main_ds = main_ds.map(extract_embedding).unbatch()\n",
    "main_ds.element_spec"
   ]
  },
  {
   "cell_type": "markdown",
   "metadata": {},
   "source": [
    "Split the data"
   ]
  },
  {
   "cell_type": "code",
   "execution_count": 25,
   "metadata": {},
   "outputs": [
    {
     "name": "stderr",
     "output_type": "stream",
     "text": [
      "Converting to numpy arrays: 187073it [19:12, 162.28it/s]\n"
     ]
    }
   ],
   "source": [
    "import numpy as np\n",
    "from sklearn.model_selection import train_test_split\n",
    "from tqdm import tqdm\n",
    "\n",
    "# Convert TensorFlow dataset to numpy arrays\n",
    "X = []\n",
    "y = []\n",
    "for data in tqdm(main_ds.as_numpy_iterator(), desc=\"Converting to numpy arrays\"):\n",
    "    X.append(data[0])\n",
    "    y.append(data[1])\n",
    "\n",
    "X = np.array(X)\n",
    "y = np.array(y)\n",
    "\n",
    "# Split the dataset into train and test sets with an 80-20 ratio\n",
    "X_train, X_test, y_train, y_test = train_test_split(X, y, test_size=0.1, random_state=42)\n",
    "\n",
    "# Optionally, convert back to TensorFlow datasets if needed\n",
    "train_ds = tf.data.Dataset.from_tensor_slices((X_train, y_train))\n",
    "test_ds = tf.data.Dataset.from_tensor_slices((X_test, y_test))\n",
    "\n",
    "# Apply necessary preprocessing steps\n",
    "train_ds = train_ds.shuffle(1000).batch(32).cache().prefetch(tf.data.AUTOTUNE)\n",
    "test_ds = test_ds.batch(32).cache().prefetch(tf.data.AUTOTUNE)\n"
   ]
  },
  {
   "cell_type": "code",
   "execution_count": 26,
   "metadata": {},
   "outputs": [],
   "source": [
    "# # Define the directory paths to save the datasets\n",
    "# train_ds_dir = \"./train_dataset\"\n",
    "# test_ds_dir = \"./test_dataset\"\n",
    "\n",
    "# # Save the train_ds\n",
    "# tf.data.experimental.save(train_ds, train_ds_dir)\n",
    "\n",
    "# # Save the test_ds\n",
    "# tf.data.experimental.save(test_ds, test_ds_dir)"
   ]
  },
  {
   "cell_type": "markdown",
   "metadata": {},
   "source": [
    "Model FineTuning"
   ]
  },
  {
   "cell_type": "code",
   "execution_count": 27,
   "metadata": {},
   "outputs": [
    {
     "name": "stdout",
     "output_type": "stream",
     "text": [
      "Model: \"sequential\"\n",
      "_________________________________________________________________\n",
      " Layer (type)                Output Shape              Param #   \n",
      "=================================================================\n",
      " reshape (Reshape)           (None, 1024, 1)           0         \n",
      "                                                                 \n",
      " conv1d (Conv1D)             (None, 1024, 64)          256       \n",
      "                                                                 \n",
      " max_pooling1d (MaxPooling1D  (None, 512, 64)          0         \n",
      " )                                                               \n",
      "                                                                 \n",
      " conv1d_1 (Conv1D)           (None, 512, 64)           12352     \n",
      "                                                                 \n",
      " max_pooling1d_1 (MaxPooling  (None, 256, 64)          0         \n",
      " 1D)                                                             \n",
      "                                                                 \n",
      " conv1d_2 (Conv1D)           (None, 256, 64)           12352     \n",
      "                                                                 \n",
      " max_pooling1d_2 (MaxPooling  (None, 128, 64)          0         \n",
      " 1D)                                                             \n",
      "                                                                 \n",
      " dropout (Dropout)           (None, 128, 64)           0         \n",
      "                                                                 \n",
      " flatten (Flatten)           (None, 8192)              0         \n",
      "                                                                 \n",
      " dense (Dense)               (None, 1024)              8389632   \n",
      "                                                                 \n",
      " dense_1 (Dense)             (None, 11)                11275     \n",
      "                                                                 \n",
      "=================================================================\n",
      "Total params: 8,425,867\n",
      "Trainable params: 8,425,867\n",
      "Non-trainable params: 0\n",
      "_________________________________________________________________\n"
     ]
    }
   ],
   "source": [
    "import tensorflow as tf\n",
    "from tensorflow.keras import layers\n",
    "\n",
    "my_classes = 11  # Assuming you have 10 classes, update this according to your dataset\n",
    "\n",
    "my_model = tf.keras.Sequential([\n",
    "    tf.keras.layers.Input(shape=(1024), dtype=tf.float32, name='input_embedding'),\n",
    "    tf.keras.layers.Reshape((1024, 1)),  # Reshape input to be compatible with Conv1D\n",
    "    tf.keras.layers.Conv1D(64, kernel_size=3, padding=\"same\", activation=\"tanh\"),\n",
    "    tf.keras.layers.MaxPooling1D(pool_size=2),\n",
    "    tf.keras.layers.Conv1D(64, kernel_size=3, padding=\"same\", activation=\"tanh\"),\n",
    "    tf.keras.layers.MaxPooling1D(pool_size=2),\n",
    "    tf.keras.layers.Conv1D(64, kernel_size=3, padding=\"same\", activation=\"tanh\"),\n",
    "    tf.keras.layers.MaxPooling1D(pool_size=2),\n",
    "    tf.keras.layers.Dropout(0.1),\n",
    "    tf.keras.layers.Flatten(),\n",
    "    tf.keras.layers.Dense(1024, activation=\"tanh\"),\n",
    "    tf.keras.layers.Dense(my_classes, activation=\"softmax\")\n",
    "])\n",
    "\n",
    "my_model.summary()\n"
   ]
  },
  {
   "cell_type": "code",
   "execution_count": 28,
   "metadata": {},
   "outputs": [],
   "source": [
    "my_model.compile(loss=tf.keras.losses.SparseCategoricalCrossentropy(from_logits=True),\n",
    "                 optimizer=\"adam\",\n",
    "                 metrics=['accuracy'])\n",
    "\n",
    "callback = tf.keras.callbacks.EarlyStopping(monitor='loss',\n",
    "                                            patience=3,\n",
    "                                            restore_best_weights=True)"
   ]
  },
  {
   "cell_type": "code",
   "execution_count": 29,
   "metadata": {},
   "outputs": [
    {
     "name": "stdout",
     "output_type": "stream",
     "text": [
      "Epoch 1/15\n"
     ]
    },
    {
     "name": "stderr",
     "output_type": "stream",
     "text": [
      "c:\\Program Files\\Python39\\lib\\site-packages\\tensorflow\\python\\util\\dispatch.py:1096: UserWarning: \"`sparse_categorical_crossentropy` received `from_logits=True`, but the `output` argument was produced by a sigmoid or softmax activation and thus does not represent logits. Was this intended?\"\n",
      "  return dispatch_target(*args, **kwargs)\n"
     ]
    },
    {
     "name": "stdout",
     "output_type": "stream",
     "text": [
      "2384/5262 [============>.................] - ETA: 5:03 - loss: 0.7004 - accuracy: 0.7362"
     ]
    }
   ],
   "source": [
    "history = my_model.fit(train_ds,\n",
    "                       epochs=15,\n",
    "                       validation_data=test_ds,\n",
    "                       callbacks=callback)"
   ]
  },
  {
   "cell_type": "code",
   "execution_count": 30,
   "metadata": {},
   "outputs": [
    {
     "name": "stdout",
     "output_type": "stream",
     "text": [
      "190/190 [==============================] - 3s 16ms/step - loss: 0.4734 - accuracy: 0.8250\n",
      "Loss:  0.47344970703125\n",
      "Accuracy:  0.824999988079071\n"
     ]
    }
   ],
   "source": [
    "loss, accuracy = my_model.evaluate(test_ds)\n",
    "\n",
    "print(\"Loss: \", loss)\n",
    "print(\"Accuracy: \", accuracy)"
   ]
  },
  {
   "cell_type": "markdown",
   "metadata": {},
   "source": [
    "Model Testing"
   ]
  },
  {
   "cell_type": "code",
   "execution_count": 31,
   "metadata": {},
   "outputs": [
    {
     "name": "stdout",
     "output_type": "stream",
     "text": [
      "WARNING:tensorflow:Using a while_loop for converting IO>AudioResample\n"
     ]
    },
    {
     "name": "stderr",
     "output_type": "stream",
     "text": [
      "WARNING:tensorflow:Using a while_loop for converting IO>AudioResample\n"
     ]
    },
    {
     "ename": "TypeError",
     "evalue": "'int' object is not subscriptable",
     "output_type": "error",
     "traceback": [
      "\u001b[1;31m---------------------------------------------------------------------------\u001b[0m",
      "\u001b[1;31mTypeError\u001b[0m                                 Traceback (most recent call last)",
      "Cell \u001b[1;32mIn[31], line 13\u001b[0m\n\u001b[0;32m     10\u001b[0m scores, embeddings, spectrogram \u001b[38;5;241m=\u001b[39m yamnet_model(testing_wav_data)\n\u001b[0;32m     11\u001b[0m result \u001b[38;5;241m=\u001b[39m my_model(embeddings)\u001b[38;5;241m.\u001b[39mnumpy()\n\u001b[1;32m---> 13\u001b[0m inferred_class \u001b[38;5;241m=\u001b[39m \u001b[43mmy_classes\u001b[49m\u001b[43m[\u001b[49m\u001b[43mresult\u001b[49m\u001b[38;5;241;43m.\u001b[39;49m\u001b[43mmean\u001b[49m\u001b[43m(\u001b[49m\u001b[43maxis\u001b[49m\u001b[38;5;241;43m=\u001b[39;49m\u001b[38;5;241;43m0\u001b[39;49m\u001b[43m)\u001b[49m\u001b[38;5;241;43m.\u001b[39;49m\u001b[43margmax\u001b[49m\u001b[43m(\u001b[49m\u001b[43m)\u001b[49m\u001b[43m]\u001b[49m\n\u001b[0;32m     14\u001b[0m \u001b[38;5;28mprint\u001b[39m(\u001b[38;5;124mf\u001b[39m\u001b[38;5;124m'\u001b[39m\u001b[38;5;124mThe main sound is: \u001b[39m\u001b[38;5;132;01m{\u001b[39;00minferred_class\u001b[38;5;132;01m}\u001b[39;00m\u001b[38;5;124m'\u001b[39m)\n",
      "\u001b[1;31mTypeError\u001b[0m: 'int' object is not subscriptable"
     ]
    },
    {
     "data": {
      "image/png": "[encoded data removed]",
      "text/plain": [
       "<Figure size 640x480 with 1 Axes>"
      ]
     },
     "metadata": {},
     "output_type": "display_data"
    }
   ],
   "source": [
    "testing_wav_file_name = r'AudioSet\\new_created\\Clicking\\mouse_click_26_aug_comb_PitchShift_TimeStretch_AddGaussianNoise_aug.wav'\n",
    "\n",
    "testing_wav_data = load_wav_16k_mono(testing_wav_file_name)\n",
    "\n",
    "_ = plt.plot(testing_wav_data)\n",
    "\n",
    "# Play the audio file.\n",
    "display.Audio(testing_wav_data, rate=16000)\n",
    "\n",
    "scores, embeddings, spectrogram = yamnet_model(testing_wav_data)\n",
    "result = my_model(embeddings).numpy()\n",
    "\n",
    "inferred_class = my_classes[result.mean(axis=0).argmax()]\n",
    "print(f'The main sound is: {inferred_class}')"
   ]
  },
  {
   "cell_type": "markdown",
   "metadata": {},
   "source": [
    "Save a model that can directly take a WAV file as input"
   ]
  },
  {
   "cell_type": "code",
   "execution_count": 32,
   "metadata": {},
   "outputs": [],
   "source": [
    "class ReduceMeanLayer(tf.keras.layers.Layer):\n",
    "  def __init__(self, axis=0, **kwargs):\n",
    "    super(ReduceMeanLayer, self).__init__(**kwargs)\n",
    "    self.axis = axis\n",
    "\n",
    "  def call(self, input):\n",
    "    return tf.math.reduce_mean(input, axis=self.axis)"
   ]
  },
  {
   "cell_type": "code",
   "execution_count": 33,
   "metadata": {},
   "outputs": [
    {
     "name": "stdout",
     "output_type": "stream",
     "text": [
      "WARNING:tensorflow:Compiled the loaded model, but the compiled metrics have yet to be built. `model.compile_metrics` will be empty until you train or evaluate the model.\n"
     ]
    },
    {
     "name": "stderr",
     "output_type": "stream",
     "text": [
      "WARNING:tensorflow:Compiled the loaded model, but the compiled metrics have yet to be built. `model.compile_metrics` will be empty until you train or evaluate the model.\n"
     ]
    },
    {
     "name": "stdout",
     "output_type": "stream",
     "text": [
      "INFO:tensorflow:Assets written to: ./custom_classes_yamnet\\assets\n"
     ]
    },
    {
     "name": "stderr",
     "output_type": "stream",
     "text": [
      "INFO:tensorflow:Assets written to: ./custom_classes_yamnet\\assets\n"
     ]
    }
   ],
   "source": [
    "saved_model_path = './custom_classes_yamnet'\n",
    "\n",
    "input_segment = tf.keras.layers.Input(shape=(), dtype=tf.float32, name='audio')\n",
    "embedding_extraction_layer = hub.KerasLayer(yamnet_model_handle,\n",
    "                                            trainable=False, name='yamnet')\n",
    "_, embeddings_output, _ = embedding_extraction_layer(input_segment)\n",
    "serving_outputs = my_model(embeddings_output)\n",
    "serving_outputs = ReduceMeanLayer(axis=0, name='classifier')(serving_outputs)\n",
    "serving_model = tf.keras.Model(input_segment, serving_outputs)\n",
    "serving_model.save(saved_model_path, include_optimizer=False)"
   ]
  },
  {
   "cell_type": "code",
   "execution_count": 34,
   "metadata": {},
   "outputs": [
    {
     "data": {
      "image/png": "[encoded data removed]",
      "text/plain": [
       "<IPython.core.display.Image object>"
      ]
     },
     "execution_count": 34,
     "metadata": {},
     "output_type": "execute_result"
    }
   ],
   "source": [
    "tf.keras.utils.plot_model(serving_model)\n"
   ]
  },
  {
   "cell_type": "markdown",
   "metadata": {},
   "source": [
    "Load your saved model to verify that it works as expected"
   ]
  },
  {
   "cell_type": "markdown",
   "metadata": {},
   "source": [
    "Stand-alone Testing"
   ]
  },
  {
   "cell_type": "code",
   "execution_count": 35,
   "metadata": {},
   "outputs": [],
   "source": [
    "saved_model_path = 'custom_classes_yamnet'"
   ]
  },
  {
   "cell_type": "code",
   "execution_count": 36,
   "metadata": {},
   "outputs": [],
   "source": [
    "reloaded_model = tf.saved_model.load(saved_model_path)"
   ]
  },
  {
   "cell_type": "markdown",
   "metadata": {},
   "source": [
    "And for the final test: given some sound data directly"
   ]
  },
  {
   "cell_type": "code",
   "execution_count": 37,
   "metadata": {},
   "outputs": [],
   "source": [
    "testing_wav_file_name = r'AudioSet\\new_created\\Clicking\\mouse_click_26_aug_comb_PitchShift_TimeStretch_AddGaussianNoise_aug.wav'\n",
    "\n",
    "testing_wav_data = load_wav_16k_mono(testing_wav_file_name)"
   ]
  },
  {
   "cell_type": "code",
   "execution_count": 38,
   "metadata": {},
   "outputs": [],
   "source": [
    "# Your specified classes\n",
    "my_classes = ['Silence', 'Male speech, man speaking', 'Female speech, woman speaking', \n",
    "              'Vacuum cleaner', 'Computer keyboard', 'Clicking', 'Sneeze', \n",
    "              'Cough', 'Laughter', 'Hair dryer', 'book_page_flip']"
   ]
  },
  {
   "cell_type": "code",
   "execution_count": 40,
   "metadata": {},
   "outputs": [
    {
     "name": "stdout",
     "output_type": "stream",
     "text": [
      "Probabilities:\n",
      "Silence: 0.0822\n",
      "Male speech, man speaking: 0.0822\n",
      "Female speech, woman speaking: 0.0822\n",
      "Vacuum cleaner: 0.0822\n",
      "Computer keyboard: 0.0822\n",
      "Clicking: 0.1085\n",
      "Sneeze: 0.0969\n",
      "Cough: 0.1255\n",
      "Laughter: 0.0826\n",
      "Hair dryer: 0.0822\n",
      "book_page_flip: 0.0936\n",
      "\n",
      "The main sound is: Cough with probability 0.1255\n"
     ]
    }
   ],
   "source": [
    "reloaded_results = reloaded_model(testing_wav_data)\n",
    "probabilities = tf.nn.softmax(reloaded_results).numpy()\n",
    "predicted_class_index = tf.math.argmax(reloaded_results).numpy()\n",
    "predicted_class = my_classes[predicted_class_index]\n",
    "\n",
    "print(\"Probabilities:\")\n",
    "for i, prob in enumerate(probabilities):\n",
    "    print(f\"{my_classes[i]}: {prob:.4f}\")\n",
    "\n",
    "print(f'\\nThe main sound is: {predicted_class} with probability {probabilities[predicted_class_index]:.4f}')\n"
   ]
  },
  {
   "cell_type": "markdown",
   "metadata": {},
   "source": [
    "If you want to try your new model on a serving setup, you can use the 'serving_default' signature."
   ]
  },
  {
   "cell_type": "code",
   "execution_count": 41,
   "metadata": {},
   "outputs": [
    {
     "name": "stdout",
     "output_type": "stream",
     "text": [
      "The main sound is: Cough\n"
     ]
    }
   ],
   "source": [
    "serving_results = reloaded_model.signatures['serving_default'](testing_wav_data)\n",
    "predicting_1 = my_classes[tf.math.argmax(serving_results['classifier'])]\n",
    "print(f'The main sound is: {predicting_1}')"
   ]
  },
  {
   "cell_type": "code",
   "execution_count": null,
   "metadata": {},
   "outputs": [],
   "source": []
  }
 ],
 "metadata": {
  "kernelspec": {
   "display_name": "Python 3",
   "language": "python",
   "name": "python3"
  },
  "language_info": {
   "codemirror_mode": {
    "name": "ipython",
    "version": 3
   },
   "file_extension": ".py",
   "mimetype": "text/x-python",
   "name": "python",
   "nbconvert_exporter": "python",
   "pygments_lexer": "ipython3",
   "version": "3.9.6"
  }
 },
 "nbformat": 4,
 "nbformat_minor": 2
}
